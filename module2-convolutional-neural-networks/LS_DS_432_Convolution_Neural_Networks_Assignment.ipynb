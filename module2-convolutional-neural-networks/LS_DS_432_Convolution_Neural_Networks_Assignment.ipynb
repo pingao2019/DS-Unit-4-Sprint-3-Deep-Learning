{
  "nbformat": 4,
  "nbformat_minor": 0,
  "metadata": {
    "kernelspec": {
      "display_name": "U4-S2-NNF-DS10",
      "language": "python",
      "name": "u4-s2-nnf-ds10"
    },
    "language_info": {
      "codemirror_mode": {
        "name": "ipython",
        "version": 3
      },
      "file_extension": ".py",
      "mimetype": "text/x-python",
      "name": "python",
      "nbconvert_exporter": "python",
      "pygments_lexer": "ipython3",
      "version": "3.7.6"
    },
    "nteract": {
      "version": "0.23.1"
    },
    "colab": {
      "name": "LS_DS_432_Convolution_Neural_Networks_Assignment.ipynb",
      "provenance": []
    }
  },
  "cells": [
    {
      "cell_type": "markdown",
      "metadata": {
        "id": "bZsic4Oz4J20",
        "colab_type": "text"
      },
      "source": [
        "<img align=\"left\" src=\"https://lever-client-logos.s3.amazonaws.com/864372b1-534c-480e-acd5-9711f850815c-1524247202159.png\" width=200>\n",
        "<br></br>\n",
        "<br></br>\n",
        "\n",
        "## *Data Science Unit 4 Sprint 3 Assignment 2*\n",
        "# Convolutional Neural Networks (CNNs)"
      ]
    },
    {
      "cell_type": "markdown",
      "metadata": {
        "colab_type": "text",
        "id": "0lfZdD_cp1t5"
      },
      "source": [
        "# Assignment\n",
        "\n",
        "- <a href=\"#p1\">Part 1:</a> Pre-Trained Model\n",
        "- <a href=\"#p2\">Part 2:</a> Custom CNN Model\n",
        "- <a href=\"#p3\">Part 3:</a> CNN with Data Augmentation\n",
        "\n",
        "\n",
        "You will apply three different CNN models to a binary image classification model using Keras. Classify images of Mountains (`./data/train/mountain/*`) and images of forests (`./data/train/forest/*`). Treat mountains as the positive class (1) and the forest images as the negative (zero). \n",
        "\n",
        "|Mountain (+)|Forest (-)|\n",
        "|---|---|\n",
        "|![](https://github.com/pingao2019/DS-Unit-4-Sprint-3-Deep-Learning/blob/master/module2-convolutional-neural-networks/data/train/mountain/art1131.jpg?raw=1)|![](https://github.com/pingao2019/DS-Unit-4-Sprint-3-Deep-Learning/blob/master/module2-convolutional-neural-networks/data/validation/forest/cdmc317.jpg?raw=1)|\n",
        "\n",
        "The problem is relatively difficult given that the sample is tiny: there are about 350 observations per class. This sample size might be something that you can expect with prototyping an image classification problem/solution at work. Get accustomed to evaluating several different possible models."
      ]
    },
    {
      "cell_type": "markdown",
      "metadata": {
        "colab_type": "text",
        "id": "ZBqu-zfR4J26"
      },
      "source": [
        "# Pre - Trained Model\n",
        "<a id=\"p1\"></a>\n",
        "\n",
        "Load a pretrained network from Keras, [ResNet50](https://tfhub.dev/google/imagenet/resnet_v1_50/classification/1) - a 50 layer deep network trained to recognize [1000 objects](https://storage.googleapis.com/download.tensorflow.org/data/ImageNetLabels.txt). Starting usage:\n",
        "\n",
        "```python\n",
        "import numpy as np\n",
        "\n",
        "from tensorflow.keras.applications.resnet50 import ResNet50\n",
        "from tensorflow.keras.preprocessing import image\n",
        "from tensorflow.keras.applications.resnet50 import preprocess_input, decode_predictions\n",
        "\n",
        "from tensorflow.keras.layers import Dense, GlobalAveragePooling2D\n",
        "from tensorflow.keras.models import Model # This is the functional API\n",
        "\n",
        "resnet = ResNet50(weights='imagenet', include_top=False)\n",
        "\n",
        "```\n",
        "\n",
        "The `include_top` parameter in `ResNet50` will remove the full connected layers from the ResNet model. The next step is to turn off the training of the ResNet layers. We want to use the learned parameters without updating them in future training passes. \n",
        "\n",
        "```python\n",
        "for layer in resnet.layers:\n",
        "    layer.trainable = False\n",
        "```\n",
        "\n",
        "Using the Keras functional API, we will need to additional additional full connected layers to our model. We we removed the top layers, we removed all preivous fully connected layers. In other words, we kept only the feature processing portions of our network. You can expert with additional layers beyond what's listed here. The `GlobalAveragePooling2D` layer functions as a really fancy flatten function by taking the average of each of the last convolutional layer outputs (which is two dimensional still). \n",
        "\n",
        "```python\n",
        "x = resnet.output\n",
        "x = GlobalAveragePooling2D()(x) # This layer is a really fancy flatten\n",
        "x = Dense(1024, activation='relu')(x)\n",
        "predictions = Dense(1, activation='sigmoid')(x)\n",
        "model = Model(resnet.input, predictions)\n",
        "```\n",
        "\n",
        "Your assignment is to apply the transfer learning above to classify images of Mountains (`./data/train/mountain/*`) and images of forests (`./data/train/forest/*`). Treat mountains as the positive class (1) and the forest images as the negative (zero). \n",
        "\n",
        "Steps to complete assignment: \n",
        "1. Load in Image Data into numpy arrays (`X`) \n",
        "2. Create a `y` for the labels\n",
        "3. Train your model with pre-trained layers from resnet\n",
        "4. Report your model's accuracy"
      ]
    },
    {
      "cell_type": "markdown",
      "metadata": {
        "id": "5aIfMm8B4J29",
        "colab_type": "text"
      },
      "source": [
        "## Load in Data\n",
        "\n",
        "This surprisingly more difficult than it seems, because you are working with directories of images instead of a single file. This boiler plate will help you download a zipped version of the directory of images. The directory is organized into \"train\" and \"validation\" which you can use inside an `ImageGenerator` class to stream batches of images thru your model.  \n"
      ]
    },
    {
      "cell_type": "markdown",
      "metadata": {
        "id": "21c7P7D44J3A",
        "colab_type": "text"
      },
      "source": [
        "### Download & Summarize the Data\n",
        "\n",
        "This step is completed for you. Just run the cells and review the results. "
      ]
    },
    {
      "cell_type": "code",
      "metadata": {
        "id": "VBOg6urs4J3E",
        "colab_type": "code",
        "colab": {}
      },
      "source": [
        "import tensorflow as tf\n",
        "import os\n",
        "\n",
        "_URL = 'https://github.com/LambdaSchool/DS-Unit-4-Sprint-3-Deep-Learning/blob/master/module2-convolutional-neural-networks/data.zip?raw=true'\n",
        "\n",
        "path_to_zip = tf.keras.utils.get_file('./data.zip', origin=_URL, extract=True)\n",
        "PATH = os.path.join(os.path.dirname(path_to_zip), 'data')"
      ],
      "execution_count": 0,
      "outputs": []
    },
    {
      "cell_type": "code",
      "metadata": {
        "id": "get5Kfgn4J3W",
        "colab_type": "code",
        "colab": {}
      },
      "source": [
        "train_dir = os.path.join(PATH, 'train')\n",
        "validation_dir = os.path.join(PATH, 'validation')"
      ],
      "execution_count": 0,
      "outputs": []
    },
    {
      "cell_type": "code",
      "metadata": {
        "id": "DWoZ4neQ4J3f",
        "colab_type": "code",
        "colab": {}
      },
      "source": [
        "train_mountain_dir = os.path.join(train_dir, 'mountain')  # directory with our training cat pictures\n",
        "train_forest_dir = os.path.join(train_dir, 'forest')  # directory with our training dog pictures\n",
        "validation_mountain_dir = os.path.join(validation_dir, 'mountain')  # directory with our validation cat pictures\n",
        "validation_forest_dir = os.path.join(validation_dir, 'forest')  # directory with our validation dog pictures"
      ],
      "execution_count": 0,
      "outputs": []
    },
    {
      "cell_type": "code",
      "metadata": {
        "id": "1WLijhGC4J3p",
        "colab_type": "code",
        "colab": {}
      },
      "source": [
        "num_mountain_tr = len(os.listdir(train_mountain_dir))\n",
        "num_forest_tr = len(os.listdir(train_forest_dir))\n",
        "\n",
        "num_mountain_val = len(os.listdir(validation_mountain_dir))\n",
        "num_forest_val = len(os.listdir(validation_forest_dir))\n",
        "\n",
        "total_train = num_mountain_tr + num_forest_tr\n",
        "total_val = num_mountain_val + num_forest_val"
      ],
      "execution_count": 0,
      "outputs": []
    },
    {
      "cell_type": "code",
      "metadata": {
        "id": "P26GtuFW4J3w",
        "colab_type": "code",
        "colab": {
          "base_uri": "https://localhost:8080/",
          "height": 148
        },
        "outputId": "3f7bc978-19be-468d-e96c-c384d7d4e20e"
      },
      "source": [
        "print('total training mountain images:', num_mountain_tr)\n",
        "print('total training forest images:', num_forest_tr)\n",
        "\n",
        "print('total validation mountain images:', num_mountain_val)\n",
        "print('total validation forest images:', num_forest_val)\n",
        "print(\"--\")\n",
        "print(\"Total training images:\", total_train)\n",
        "print(\"Total validation images:\", total_val)"
      ],
      "execution_count": 72,
      "outputs": [
        {
          "output_type": "stream",
          "text": [
            "total training mountain images: 254\n",
            "total training forest images: 270\n",
            "total validation mountain images: 125\n",
            "total validation forest images: 62\n",
            "--\n",
            "Total training images: 524\n",
            "Total validation images: 187\n"
          ],
          "name": "stdout"
        }
      ]
    },
    {
      "cell_type": "markdown",
      "metadata": {
        "id": "ZMmAxd_04J4B",
        "colab_type": "text"
      },
      "source": [
        "### Keras `ImageGenerator` to Process the Data\n",
        "\n",
        "This step is completed for you, but please review the code. The `ImageGenerator` class reads in batches of data from a directory and pass them to the model one batch at a time. Just like large text files, this method is advantageous, because it stifles the need to load a bunch of images into memory. \n",
        "\n",
        "Check out the documentation for this class method: [Keras `ImageGenerator` Class](https://keras.io/preprocessing/image/#imagedatagenerator-class). You'll expand it's use in the third assignment objective."
      ]
    },
    {
      "cell_type": "code",
      "metadata": {
        "id": "FEvjxDwu4J4S",
        "colab_type": "code",
        "colab": {}
      },
      "source": [
        "from tensorflow.keras.preprocessing.image import ImageDataGenerator\n",
        "\n",
        "train_image_generator = ImageDataGenerator(rescale=1./255) # Generator for our training data\n",
        "validation_image_generator = ImageDataGenerator(rescale=1./255) # Generator for our validation data"
      ],
      "execution_count": 0,
      "outputs": []
    },
    {
      "cell_type": "code",
      "metadata": {
        "id": "S7KZSUFZ4J4F",
        "colab_type": "code",
        "colab": {}
      },
      "source": [
        "batch_size = 16\n",
        "epochs = 20\n",
        "IMG_HEIGHT = 224\n",
        "IMG_WIDTH = 224"
      ],
      "execution_count": 0,
      "outputs": []
    },
    {
      "cell_type": "code",
      "metadata": {
        "id": "ht1vnXlG4J4d",
        "colab_type": "code",
        "colab": {
          "base_uri": "https://localhost:8080/",
          "height": 36
        },
        "outputId": "3acfcd78-6996-4aaf-c0f5-d84d3e6294d7"
      },
      "source": [
        "train_data_gen = train_image_generator.flow_from_directory(batch_size=batch_size,\n",
        "                                                           directory=train_dir,\n",
        "                                                           shuffle=True,\n",
        "                                                           target_size=(IMG_HEIGHT, IMG_WIDTH),\n",
        "                                                           class_mode='binary')"
      ],
      "execution_count": 78,
      "outputs": [
        {
          "output_type": "stream",
          "text": [
            "Found 533 images belonging to 2 classes.\n"
          ],
          "name": "stdout"
        }
      ]
    },
    {
      "cell_type": "code",
      "metadata": {
        "id": "Bmb6QcCn4J4r",
        "colab_type": "code",
        "colab": {
          "base_uri": "https://localhost:8080/",
          "height": 36
        },
        "outputId": "2422b02f-7d42-467a-844c-4ebee3ce3fee"
      },
      "source": [
        "val_data_gen = validation_image_generator.flow_from_directory(batch_size=batch_size,\n",
        "                                                              directory=validation_dir,\n",
        "                                                              target_size=(IMG_HEIGHT, IMG_WIDTH),\n",
        "                                                              class_mode='binary')"
      ],
      "execution_count": 79,
      "outputs": [
        {
          "output_type": "stream",
          "text": [
            "Found 195 images belonging to 2 classes.\n"
          ],
          "name": "stdout"
        }
      ]
    },
    {
      "cell_type": "markdown",
      "metadata": {
        "id": "wSWnTyUW4J42",
        "colab_type": "text"
      },
      "source": [
        "## Instatiate Model"
      ]
    },
    {
      "cell_type": "code",
      "metadata": {
        "id": "YxGdK6hiAa4F",
        "colab_type": "code",
        "colab": {}
      },
      "source": [
        "import numpy as np\n",
        "from tensorflow.keras import Sequential\n",
        "from tensorflow.keras.applications.resnet50 import ResNet50 #for Pre - Trained Model\n",
        "from tensorflow.keras.preprocessing import image\n",
        "from tensorflow.keras.applications.resnet50 import preprocess_input, decode_predictions\n",
        " \n",
        "from tensorflow.keras.layers import Dense, GlobalAveragePooling2D\n",
        "from tensorflow.keras.models import Model  \n",
        " #exclude all dense layers for include_top=False,i.e., ouput layer\n",
        "resnet = ResNet50(weights='imagenet', include_top=False)"
      ],
      "execution_count": 0,
      "outputs": []
    },
    {
      "cell_type": "code",
      "metadata": {
        "id": "8YtbsVpHAvvJ",
        "colab_type": "code",
        "colab": {}
      },
      "source": [
        "#feature extration is done, turn off updating the weights \n",
        "#because resnet has finished feature extraction and trained image well\n",
        "\n",
        "for layer in resnet.layers:\n",
        "    layer.trainable = False\n",
        "\n",
        "#Function API\n",
        "x = resnet.output\n",
        "x = GlobalAveragePooling2D()(x) # This convert all converlution layers into a giant flatten\n",
        "x = Dense(1024, activation='relu')(x)\n",
        "predictions = Dense(1, activation='sigmoid')(x) #ouput layer\n",
        "\n",
        "model = Model(resnet.input, predictions)\n",
        "model.compile(optimizer='nadam',\n",
        "              loss='binary_crossentropy',\n",
        "              metrics=['accuracy'])\n",
        "\n"
      ],
      "execution_count": 0,
      "outputs": []
    },
    {
      "cell_type": "code",
      "metadata": {
        "id": "Uf7hdyGSFroP",
        "colab_type": "code",
        "colab": {}
      },
      "source": [
        "model.summary()"
      ],
      "execution_count": 0,
      "outputs": []
    },
    {
      "cell_type": "markdown",
      "metadata": {
        "id": "2WzzD0fr4J5G",
        "colab_type": "text"
      },
      "source": [
        "## Fit Model"
      ]
    },
    {
      "cell_type": "code",
      "metadata": {
        "id": "a7WzJzB_4J5K",
        "colab_type": "code",
        "colab": {
          "base_uri": "https://localhost:8080/",
          "height": 786
        },
        "outputId": "0214c433-4cc4-43ce-b844-cb5e383c802b"
      },
      "source": [
        "history = model.fit(\n",
        "    train_data_gen,\n",
        "    steps_per_epoch=total_train // batch_size,\n",
        "    epochs=epochs,\n",
        "    validation_data=val_data_gen,\n",
        "    validation_steps=total_val // batch_size\n",
        ")"
      ],
      "execution_count": 97,
      "outputs": [
        {
          "output_type": "stream",
          "text": [
            "Epoch 1/20\n",
            "32/32 [==============================] - 40s 1s/step - loss: 0.5036 - accuracy: 0.7844 - val_loss: 0.5066 - val_accuracy: 0.8580\n",
            "Epoch 2/20\n",
            "32/32 [==============================] - 40s 1s/step - loss: 0.6441 - accuracy: 0.8224 - val_loss: 0.6501 - val_accuracy: 0.6875\n",
            "Epoch 3/20\n",
            "32/32 [==============================] - 40s 1s/step - loss: 0.5170 - accuracy: 0.7745 - val_loss: 0.4804 - val_accuracy: 0.8977\n",
            "Epoch 4/20\n",
            "32/32 [==============================] - 39s 1s/step - loss: 0.5611 - accuracy: 0.7745 - val_loss: 0.4813 - val_accuracy: 0.8977\n",
            "Epoch 5/20\n",
            "32/32 [==============================] - 40s 1s/step - loss: 0.5115 - accuracy: 0.8066 - val_loss: 0.5240 - val_accuracy: 0.9034\n",
            "Epoch 6/20\n",
            "32/32 [==============================] - 39s 1s/step - loss: 0.5210 - accuracy: 0.7725 - val_loss: 0.5165 - val_accuracy: 0.8693\n",
            "Epoch 7/20\n",
            "32/32 [==============================] - 39s 1s/step - loss: 0.6731 - accuracy: 0.7984 - val_loss: 0.4506 - val_accuracy: 0.9091\n",
            "Epoch 8/20\n",
            "32/32 [==============================] - 39s 1s/step - loss: 0.4756 - accuracy: 0.8164 - val_loss: 0.4567 - val_accuracy: 0.8920\n",
            "Epoch 9/20\n",
            "32/32 [==============================] - 39s 1s/step - loss: 0.4497 - accuracy: 0.8124 - val_loss: 0.6608 - val_accuracy: 0.8523\n",
            "Epoch 10/20\n",
            "32/32 [==============================] - 39s 1s/step - loss: 0.5588 - accuracy: 0.7705 - val_loss: 0.5030 - val_accuracy: 0.9091\n",
            "Epoch 11/20\n",
            "32/32 [==============================] - 39s 1s/step - loss: 0.7087 - accuracy: 0.8044 - val_loss: 0.6218 - val_accuracy: 0.8864\n",
            "Epoch 12/20\n",
            "32/32 [==============================] - 39s 1s/step - loss: 0.4668 - accuracy: 0.8184 - val_loss: 0.4206 - val_accuracy: 0.9091\n",
            "Epoch 13/20\n",
            "32/32 [==============================] - 40s 1s/step - loss: 0.5799 - accuracy: 0.7984 - val_loss: 0.4638 - val_accuracy: 0.8977\n",
            "Epoch 14/20\n",
            "32/32 [==============================] - 40s 1s/step - loss: 0.4549 - accuracy: 0.8144 - val_loss: 1.1340 - val_accuracy: 0.7955\n",
            "Epoch 15/20\n",
            "32/32 [==============================] - 40s 1s/step - loss: 0.5817 - accuracy: 0.8024 - val_loss: 0.4593 - val_accuracy: 0.8920\n",
            "Epoch 16/20\n",
            "32/32 [==============================] - 40s 1s/step - loss: 0.7893 - accuracy: 0.8303 - val_loss: 0.2991 - val_accuracy: 0.8750\n",
            "Epoch 17/20\n",
            "32/32 [==============================] - 40s 1s/step - loss: 0.4775 - accuracy: 0.8323 - val_loss: 0.2433 - val_accuracy: 0.9148\n",
            "Epoch 18/20\n",
            "32/32 [==============================] - 40s 1s/step - loss: 0.4898 - accuracy: 0.8104 - val_loss: 0.3391 - val_accuracy: 0.8750\n",
            "Epoch 19/20\n",
            "32/32 [==============================] - 40s 1s/step - loss: 0.4912 - accuracy: 0.8244 - val_loss: 0.4071 - val_accuracy: 0.9318\n",
            "Epoch 20/20\n",
            "32/32 [==============================] - 40s 1s/step - loss: 0.7000 - accuracy: 0.7525 - val_loss: 0.4180 - val_accuracy: 0.8807\n"
          ],
          "name": "stdout"
        }
      ]
    },
    {
      "cell_type": "markdown",
      "metadata": {
        "id": "9apcAzEI4J5X",
        "colab_type": "text"
      },
      "source": [
        "# Custom CNN Model\n",
        "\n",
        "In this step, write and train your own convolutional neural network using Keras. You can use any architecture that suits you as long as it has at least one convolutional and one pooling layer at the beginning of the network - you can add more if you want. "
      ]
    },
    {
      "cell_type": "code",
      "metadata": {
        "id": "lIpEtdM_MInw",
        "colab_type": "code",
        "colab": {
          "base_uri": "https://localhost:8080/",
          "height": 504
        },
        "outputId": "83d4d106-f14d-4797-9231-15d9c29422db"
      },
      "source": [
        "# Define the Model\n",
        "from tensorflow.keras.models import Sequential, Model \n",
        "from tensorflow.keras.layers import Dense, Conv2D, MaxPooling2D, Flatten, Dropout\n",
        "\n",
        "\n",
        "model= Sequential()\n",
        "model.add(Conv2D(32, (3,3), activation='selu', input_shape=(256,256,3)))\n",
        "model.add(MaxPooling2D((2,2)))\n",
        "model.add(Conv2D(64, (3,3), activation='selu'))\n",
        "model.add(MaxPooling2D((2,2)))\n",
        "model.add(Conv2D(64, (3,3), activation='selu'))\n",
        "\n",
        "model.add(GlobalAveragePooling2D())\n",
        "model.add(Dense(64, activation='relu'))\n",
        "model.add(Dropout(0.15))\n",
        "model.add(Dense(1, activation='sigmoid'))\n",
        "\n",
        "model.summary()"
      ],
      "execution_count": 82,
      "outputs": [
        {
          "output_type": "stream",
          "text": [
            "Model: \"sequential_7\"\n",
            "_________________________________________________________________\n",
            "Layer (type)                 Output Shape              Param #   \n",
            "=================================================================\n",
            "conv2d_21 (Conv2D)           (None, 254, 254, 32)      896       \n",
            "_________________________________________________________________\n",
            "max_pooling2d_14 (MaxPooling (None, 127, 127, 32)      0         \n",
            "_________________________________________________________________\n",
            "conv2d_22 (Conv2D)           (None, 125, 125, 64)      18496     \n",
            "_________________________________________________________________\n",
            "max_pooling2d_15 (MaxPooling (None, 62, 62, 64)        0         \n",
            "_________________________________________________________________\n",
            "conv2d_23 (Conv2D)           (None, 60, 60, 64)        36928     \n",
            "_________________________________________________________________\n",
            "global_average_pooling2d_12  (None, 64)                0         \n",
            "_________________________________________________________________\n",
            "dense_22 (Dense)             (None, 64)                4160      \n",
            "_________________________________________________________________\n",
            "dropout_2 (Dropout)          (None, 64)                0         \n",
            "_________________________________________________________________\n",
            "dense_23 (Dense)             (None, 1)                 65        \n",
            "=================================================================\n",
            "Total params: 60,545\n",
            "Trainable params: 60,545\n",
            "Non-trainable params: 0\n",
            "_________________________________________________________________\n"
          ],
          "name": "stdout"
        }
      ]
    },
    {
      "cell_type": "code",
      "metadata": {
        "id": "U3b8Frm_MwVb",
        "colab_type": "code",
        "colab": {}
      },
      "source": [
        "# Compile Model\n",
        "model.compile(optimizer='adam',\n",
        "              loss='binary_crossentropy',\n",
        "              metrics=['accuracy'])"
      ],
      "execution_count": 0,
      "outputs": []
    },
    {
      "cell_type": "code",
      "metadata": {
        "id": "xhRpyay8M0f8",
        "colab_type": "code",
        "colab": {
          "base_uri": "https://localhost:8080/",
          "height": 786
        },
        "outputId": "abdcbafa-c8f2-4064-99a0-78a5eb84301d"
      },
      "source": [
        "history = model.fit(\n",
        "    train_data_gen,\n",
        "    steps_per_epoch=total_train // batch_size,\n",
        "    epochs=epochs,\n",
        "    validation_data=val_data_gen,\n",
        "    validation_steps=total_val // batch_size\n",
        ")"
      ],
      "execution_count": 64,
      "outputs": [
        {
          "output_type": "stream",
          "text": [
            "Epoch 1/20\n",
            "32/32 [==============================] - 44s 1s/step - loss: 0.4095 - accuracy: 0.8443 - val_loss: 0.2081 - val_accuracy: 0.9318\n",
            "Epoch 2/20\n",
            "32/32 [==============================] - 45s 1s/step - loss: 0.2295 - accuracy: 0.9361 - val_loss: 0.3492 - val_accuracy: 0.8466\n",
            "Epoch 3/20\n",
            "32/32 [==============================] - 44s 1s/step - loss: 0.2163 - accuracy: 0.9222 - val_loss: 0.1730 - val_accuracy: 0.9318\n",
            "Epoch 4/20\n",
            "32/32 [==============================] - 44s 1s/step - loss: 0.1997 - accuracy: 0.9301 - val_loss: 0.2319 - val_accuracy: 0.9091\n",
            "Epoch 5/20\n",
            "32/32 [==============================] - 44s 1s/step - loss: 0.1612 - accuracy: 0.9441 - val_loss: 0.2099 - val_accuracy: 0.8977\n",
            "Epoch 6/20\n",
            "32/32 [==============================] - 44s 1s/step - loss: 0.2044 - accuracy: 0.9222 - val_loss: 0.2849 - val_accuracy: 0.8864\n",
            "Epoch 7/20\n",
            "32/32 [==============================] - 44s 1s/step - loss: 0.1781 - accuracy: 0.9281 - val_loss: 0.1875 - val_accuracy: 0.9261\n",
            "Epoch 8/20\n",
            "32/32 [==============================] - 44s 1s/step - loss: 0.2047 - accuracy: 0.9261 - val_loss: 0.2111 - val_accuracy: 0.8977\n",
            "Epoch 9/20\n",
            "32/32 [==============================] - 45s 1s/step - loss: 0.1499 - accuracy: 0.9461 - val_loss: 0.2476 - val_accuracy: 0.9148\n",
            "Epoch 10/20\n",
            "32/32 [==============================] - 44s 1s/step - loss: 0.1607 - accuracy: 0.9501 - val_loss: 0.2276 - val_accuracy: 0.9034\n",
            "Epoch 11/20\n",
            "32/32 [==============================] - 45s 1s/step - loss: 0.1288 - accuracy: 0.9521 - val_loss: 0.3483 - val_accuracy: 0.8864\n",
            "Epoch 12/20\n",
            "32/32 [==============================] - 45s 1s/step - loss: 0.1601 - accuracy: 0.9301 - val_loss: 0.2376 - val_accuracy: 0.9148\n",
            "Epoch 13/20\n",
            "32/32 [==============================] - 45s 1s/step - loss: 0.1675 - accuracy: 0.9421 - val_loss: 0.2275 - val_accuracy: 0.9261\n",
            "Epoch 14/20\n",
            "32/32 [==============================] - 45s 1s/step - loss: 0.1679 - accuracy: 0.9341 - val_loss: 0.1911 - val_accuracy: 0.9261\n",
            "Epoch 15/20\n",
            "32/32 [==============================] - 45s 1s/step - loss: 0.1995 - accuracy: 0.9301 - val_loss: 0.1877 - val_accuracy: 0.9318\n",
            "Epoch 16/20\n",
            "32/32 [==============================] - 45s 1s/step - loss: 0.1838 - accuracy: 0.9321 - val_loss: 0.2074 - val_accuracy: 0.9205\n",
            "Epoch 17/20\n",
            "32/32 [==============================] - 45s 1s/step - loss: 0.1497 - accuracy: 0.9531 - val_loss: 0.1978 - val_accuracy: 0.9375\n",
            "Epoch 18/20\n",
            "32/32 [==============================] - 44s 1s/step - loss: 0.1365 - accuracy: 0.9561 - val_loss: 0.2654 - val_accuracy: 0.9205\n",
            "Epoch 19/20\n",
            "32/32 [==============================] - 45s 1s/step - loss: 0.1270 - accuracy: 0.9501 - val_loss: 0.2093 - val_accuracy: 0.9318\n",
            "Epoch 20/20\n",
            "32/32 [==============================] - 45s 1s/step - loss: 0.1283 - accuracy: 0.9581 - val_loss: 0.2496 - val_accuracy: 0.9205\n"
          ],
          "name": "stdout"
        }
      ]
    },
    {
      "cell_type": "code",
      "metadata": {
        "id": "GZZmj_3kmF8k",
        "colab_type": "code",
        "colab": {
          "base_uri": "https://localhost:8080/",
          "height": 295
        },
        "outputId": "0625ef23-21c0-4e6a-fc95-d553d8620cd0"
      },
      "source": [
        "import matplotlib.pyplot as plt\n",
        "\n",
        "# Plot training & validation loss values\n",
        "plt.plot(history.history['loss'])\n",
        "plt.plot(history.history['val_loss'])\n",
        "plt.title('Model loss')\n",
        "plt.ylabel('Loss')\n",
        "plt.xlabel('Epoch')\n",
        "plt.legend(['Train', 'Test'], loc='upper left')\n",
        "plt.show();"
      ],
      "execution_count": 67,
      "outputs": [
        {
          "output_type": "display_data",
          "data": {
            "image/png": "[encoded data removed]",
            "text/plain": [
              "<Figure size 432x288 with 1 Axes>"
            ]
          },
          "metadata": {
            "tags": [],
            "needs_background": "light"
          }
        }
      ]
    },
    {
      "cell_type": "markdown",
      "metadata": {
        "id": "N_rX3-vO4J6Q",
        "colab_type": "text"
      },
      "source": [
        "# Custom CNN Model with Image Manipulations\n",
        "\n",
        "To simulate an increase in a sample of image, you can apply image manipulation techniques: cropping, rotation, stretching, etc. Luckily Keras has some handy functions for us to apply these techniques to our mountain and forest example. Simply, you should be able to modify our image generator for the problem. Check out these resources to help you get started: \n",
        "\n",
        "1. [Keras `ImageGenerator` Class](https://keras.io/preprocessing/image/#imagedatagenerator-class)\n",
        "2. [Building a powerful image classifier with very little data](https://blog.keras.io/building-powerful-image-classification-models-using-very-little-data.html)\n",
        " "
      ]
    },
    {
      "cell_type": "code",
      "metadata": {
        "id": "whEqu51j02U3",
        "colab_type": "code",
        "colab": {}
      },
      "source": [
        "train_image_generator = ImageDataGenerator(\n",
        "                      rotation_range=40,\n",
        "                      width_shift_range=0.2,\n",
        "                      height_shift_range=0.2,\n",
        "                      shear_range=0.2,\n",
        "                      zoom_range=0.2,\n",
        "                      horizontal_flip=True,\n",
        "                      vertical_flip=True,\n",
        "                      fill_mode='nearest')\n",
        "validation_image_generator = ImageDataGenerator(\n",
        "                           rotation_range=40,\n",
        "                           width_shift_range=0.2,\n",
        "                           height_shift_range=0.2,\n",
        "                           shear_range=0.2,\n",
        "                           zoom_range=0.2,\n",
        "                           horizontal_flip=True,\n",
        "                           vertical_flip=True,\n",
        "                           fill_mode='nearest')"
      ],
      "execution_count": 0,
      "outputs": []
    },
    {
      "cell_type": "code",
      "metadata": {
        "id": "q8tkcvIf1MCB",
        "colab_type": "code",
        "colab": {
          "base_uri": "https://localhost:8080/",
          "height": 36
        },
        "outputId": "9f24271f-8853-4734-8098-55f0814d0866"
      },
      "source": [
        "train_data_gen = train_image_generator.flow_from_directory(batch_size=batch_size,\n",
        "                                                           directory=train_dir,\n",
        "                                                           shuffle=True,\n",
        "                                                           target_size=(IMG_HEIGHT, IMG_WIDTH),\n",
        "                                                           class_mode='binary')"
      ],
      "execution_count": 91,
      "outputs": [
        {
          "output_type": "stream",
          "text": [
            "Found 533 images belonging to 2 classes.\n"
          ],
          "name": "stdout"
        }
      ]
    },
    {
      "cell_type": "code",
      "metadata": {
        "id": "DGOmx0lB1Pqs",
        "colab_type": "code",
        "colab": {
          "base_uri": "https://localhost:8080/",
          "height": 36
        },
        "outputId": "03e6dcb8-8ed6-45c0-e9ad-13c58ffb50f2"
      },
      "source": [
        "val_data_gen = validation_image_generator.flow_from_directory(batch_size=batch_size,\n",
        "                                                              directory=validation_dir,\n",
        "                                                              target_size=(IMG_HEIGHT, IMG_WIDTH),\n",
        "                                                              class_mode='binary')"
      ],
      "execution_count": 93,
      "outputs": [
        {
          "output_type": "stream",
          "text": [
            "Found 195 images belonging to 2 classes.\n"
          ],
          "name": "stdout"
        }
      ]
    },
    {
      "cell_type": "code",
      "metadata": {
        "id": "gqwPCjMw1UN6",
        "colab_type": "code",
        "colab": {
          "base_uri": "https://localhost:8080/",
          "height": 579
        },
        "outputId": "e8d4e835-c633-4054-a34a-a5b80c8a76fe"
      },
      "source": [
        "model = Sequential([\n",
        "    Conv2D(32, (3, 3), activation='relu', input_shape=(224, 224, 3)),\n",
        "    MaxPooling2D((2, 2)),\n",
        "    Conv2D(32, (3, 3), activation='relu'),\n",
        "    MaxPooling2D((2, 2)),\n",
        "    Conv2D(64, (3, 3), activation='relu'),\n",
        "    MaxPooling2D((2, 2)),\n",
        "    Conv2D(64, (3, 3), activation='relu'),\n",
        "    Flatten(),\n",
        "    Dense(64, activation='relu'),\n",
        "    Dropout(0.5),\n",
        "    Dense(1, activation='sigmoid')\n",
        "])\n",
        "\n",
        "model.summary()"
      ],
      "execution_count": 94,
      "outputs": [
        {
          "output_type": "stream",
          "text": [
            "Model: \"sequential_8\"\n",
            "_________________________________________________________________\n",
            "Layer (type)                 Output Shape              Param #   \n",
            "=================================================================\n",
            "conv2d_24 (Conv2D)           (None, 222, 222, 32)      896       \n",
            "_________________________________________________________________\n",
            "max_pooling2d_16 (MaxPooling (None, 111, 111, 32)      0         \n",
            "_________________________________________________________________\n",
            "conv2d_25 (Conv2D)           (None, 109, 109, 32)      9248      \n",
            "_________________________________________________________________\n",
            "max_pooling2d_17 (MaxPooling (None, 54, 54, 32)        0         \n",
            "_________________________________________________________________\n",
            "conv2d_26 (Conv2D)           (None, 52, 52, 64)        18496     \n",
            "_________________________________________________________________\n",
            "max_pooling2d_18 (MaxPooling (None, 26, 26, 64)        0         \n",
            "_________________________________________________________________\n",
            "conv2d_27 (Conv2D)           (None, 24, 24, 64)        36928     \n",
            "_________________________________________________________________\n",
            "flatten (Flatten)            (None, 36864)             0         \n",
            "_________________________________________________________________\n",
            "dense_24 (Dense)             (None, 64)                2359360   \n",
            "_________________________________________________________________\n",
            "dropout_3 (Dropout)          (None, 64)                0         \n",
            "_________________________________________________________________\n",
            "dense_25 (Dense)             (None, 1)                 65        \n",
            "=================================================================\n",
            "Total params: 2,424,993\n",
            "Trainable params: 2,424,993\n",
            "Non-trainable params: 0\n",
            "_________________________________________________________________\n"
          ],
          "name": "stdout"
        }
      ]
    },
    {
      "cell_type": "code",
      "metadata": {
        "id": "NO5pud0i1ZiJ",
        "colab_type": "code",
        "colab": {
          "base_uri": "https://localhost:8080/",
          "height": 786
        },
        "outputId": "656245ee-647e-444e-e5ef-d8182a2234d2"
      },
      "source": [
        "# Compile Model\n",
        "model.compile(optimizer='rmsprop', loss='binary_crossentropy', metrics=['accuracy'])\n",
        "\n",
        "# Fit Model\n",
        "history = model.fit(\n",
        "    train_data_gen,\n",
        "    steps_per_epoch=total_train // batch_size,\n",
        "    epochs=epochs,\n",
        "    validation_data=val_data_gen,\n",
        "    validation_steps=total_val // batch_size\n",
        ")"
      ],
      "execution_count": 96,
      "outputs": [
        {
          "output_type": "stream",
          "text": [
            "Epoch 1/20\n",
            "32/32 [==============================] - 40s 1s/step - loss: 13.9852 - accuracy: 0.5669 - val_loss: 7.5277 - val_accuracy: 0.3523\n",
            "Epoch 2/20\n",
            "32/32 [==============================] - 40s 1s/step - loss: 0.9457 - accuracy: 0.5729 - val_loss: 0.7223 - val_accuracy: 0.3295\n",
            "Epoch 3/20\n",
            "32/32 [==============================] - 40s 1s/step - loss: 4.1920 - accuracy: 0.5010 - val_loss: 0.6559 - val_accuracy: 0.3239\n",
            "Epoch 4/20\n",
            "32/32 [==============================] - 40s 1s/step - loss: 1.7656 - accuracy: 0.5749 - val_loss: 0.6557 - val_accuracy: 0.8466\n",
            "Epoch 5/20\n",
            "32/32 [==============================] - 40s 1s/step - loss: 0.6319 - accuracy: 0.7285 - val_loss: 0.5943 - val_accuracy: 0.8239\n",
            "Epoch 6/20\n",
            "32/32 [==============================] - 40s 1s/step - loss: 0.9087 - accuracy: 0.7325 - val_loss: 1.9902 - val_accuracy: 0.3977\n",
            "Epoch 7/20\n",
            "32/32 [==============================] - 39s 1s/step - loss: 0.6248 - accuracy: 0.7345 - val_loss: 0.5678 - val_accuracy: 0.8295\n",
            "Epoch 8/20\n",
            "32/32 [==============================] - 40s 1s/step - loss: 0.6079 - accuracy: 0.6562 - val_loss: 0.6620 - val_accuracy: 0.7045\n",
            "Epoch 9/20\n",
            "32/32 [==============================] - 39s 1s/step - loss: 1.0196 - accuracy: 0.7246 - val_loss: 0.5855 - val_accuracy: 0.8352\n",
            "Epoch 10/20\n",
            "32/32 [==============================] - 40s 1s/step - loss: 0.8071 - accuracy: 0.6028 - val_loss: 0.6677 - val_accuracy: 0.6875\n",
            "Epoch 11/20\n",
            "32/32 [==============================] - 40s 1s/step - loss: 0.8537 - accuracy: 0.6307 - val_loss: 0.5850 - val_accuracy: 0.8409\n",
            "Epoch 12/20\n",
            "32/32 [==============================] - 40s 1s/step - loss: 0.5734 - accuracy: 0.7445 - val_loss: 0.6578 - val_accuracy: 0.8352\n",
            "Epoch 13/20\n",
            "32/32 [==============================] - 40s 1s/step - loss: 0.6025 - accuracy: 0.7146 - val_loss: 0.6591 - val_accuracy: 0.8693\n",
            "Epoch 14/20\n",
            "32/32 [==============================] - 40s 1s/step - loss: 0.6039 - accuracy: 0.7525 - val_loss: 0.6223 - val_accuracy: 0.7614\n",
            "Epoch 15/20\n",
            "32/32 [==============================] - 40s 1s/step - loss: 0.8605 - accuracy: 0.7505 - val_loss: 0.5514 - val_accuracy: 0.8807\n",
            "Epoch 16/20\n",
            "32/32 [==============================] - 40s 1s/step - loss: 0.5360 - accuracy: 0.7625 - val_loss: 0.6088 - val_accuracy: 0.7784\n",
            "Epoch 17/20\n",
            "32/32 [==============================] - 40s 1s/step - loss: 0.5663 - accuracy: 0.7285 - val_loss: 0.5854 - val_accuracy: 0.7955\n",
            "Epoch 18/20\n",
            "32/32 [==============================] - 40s 1s/step - loss: 0.5972 - accuracy: 0.7166 - val_loss: 0.5282 - val_accuracy: 0.8807\n",
            "Epoch 19/20\n",
            "32/32 [==============================] - 40s 1s/step - loss: 0.6535 - accuracy: 0.7924 - val_loss: 0.4917 - val_accuracy: 0.8523\n",
            "Epoch 20/20\n",
            "32/32 [==============================] - 40s 1s/step - loss: 0.6473 - accuracy: 0.8004 - val_loss: 0.5669 - val_accuracy: 0.8750\n"
          ],
          "name": "stdout"
        }
      ]
    },
    {
      "cell_type": "code",
      "metadata": {
        "id": "o_ENBHZ8OK4d",
        "colab_type": "code",
        "colab": {
          "base_uri": "https://localhost:8080/",
          "height": 36
        },
        "outputId": "623e4143-6bad-49b9-d770-4e9943cd8c61"
      },
      "source": [
        "train_data_gen.image_shape"
      ],
      "execution_count": 88,
      "outputs": [
        {
          "output_type": "execute_result",
          "data": {
            "text/plain": [
              "(224, 224, 3)"
            ]
          },
          "metadata": {
            "tags": []
          },
          "execution_count": 88
        }
      ]
    },
    {
      "cell_type": "code",
      "metadata": {
        "id": "Pd4z1VTIOSBB",
        "colab_type": "code",
        "colab": {}
      },
      "source": [
        "epoch_count = range(1, len(augmented.history['loss']) + 1)\n",
        "\n",
        "plt.plot(epoch_count , augmented.history['loss'], 'p-')\n",
        "plt.plot(epoch_count , augmented.history['val_loss'], 'cyan')\n",
        "plt.legend(['Training Loss', 'Validation Loss'])\n",
        "plt.show();\n",
        "\n",
        "epoch_count = range(1, len(augmented.history['accuracy']) + 1)\n",
        "\n",
        "plt.plot(epoch_count , augmented.history['accuracy'], 'p-')\n",
        "plt.plot(epoch_count , augmented.history['val_accuracy'], 'cyan')\n",
        "plt.legend(['Training Acc', 'Validation Acc'])\n",
        "plt.show();\n"
      ],
      "execution_count": 0,
      "outputs": []
    },
    {
      "cell_type": "markdown",
      "metadata": {
        "colab_type": "text",
        "id": "uT3UV3gap9H6"
      },
      "source": [
        "# Resources and Stretch Goals\n",
        "\n",
        "Stretch goals\n",
        "- Enhance your code to use classes/functions and accept terms to search and classes to look for in recognizing the downloaded images (e.g. download images of parties, recognize all that contain balloons)\n",
        "- Check out [other available pretrained networks](https://tfhub.dev), try some and compare\n",
        "- Image recognition/classification is somewhat solved, but *relationships* between entities and describing an image is not - check out some of the extended resources (e.g. [Visual Genome](https://visualgenome.org/)) on the topic\n",
        "- Transfer learning - using images you source yourself, [retrain a classifier](https://www.tensorflow.org/hub/tutorials/image_retraining) with a new category\n",
        "- (Not CNN related) Use [piexif](https://pypi.org/project/piexif/) to check out the metadata of images passed in to your system - see if they're from a national park! (Note - many images lack GPS metadata, so this won't work in most cases, but still cool)\n",
        "\n",
        "Resources\n",
        "- [Deep Residual Learning for Image Recognition](https://arxiv.org/abs/1512.03385) - influential paper (introduced ResNet)\n",
        "- [YOLO: Real-Time Object Detection](https://pjreddie.com/darknet/yolo/) - an influential convolution based object detection system, focused on inference speed (for applications to e.g. self driving vehicles)\n",
        "- [R-CNN, Fast R-CNN, Faster R-CNN, YOLO](https://towardsdatascience.com/r-cnn-fast-r-cnn-faster-r-cnn-yolo-object-detection-algorithms-36d53571365e) - comparison of object detection systems\n",
        "- [Common Objects in Context](http://cocodataset.org/) - a large-scale object detection, segmentation, and captioning dataset\n",
        "- [Visual Genome](https://visualgenome.org/) - a dataset, a knowledge base, an ongoing effort to connect structured image concepts to language"
      ]
    }
  ]
}