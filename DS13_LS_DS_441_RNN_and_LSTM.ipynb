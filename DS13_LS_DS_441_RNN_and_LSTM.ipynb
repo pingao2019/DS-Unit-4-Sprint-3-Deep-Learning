{
  "nbformat": 4,
  "nbformat_minor": 0,
  "metadata": {
    "accelerator": "GPU",
    "colab": {
      "name": "DS13_LS_DS_441_RNN_and_LSTM.ipynb",
      "provenance": [],
      "collapsed_sections": [],
      "include_colab_link": true
    },
    "kernelspec": {
      "display_name": "U4-S2-NNF-DS10",
      "language": "python",
      "name": "u4-s2-nnf-ds10"
    },
    "language_info": {
      "codemirror_mode": {
        "name": "ipython",
        "version": 3
      },
      "file_extension": ".py",
      "mimetype": "text/x-python",
      "name": "python",
      "nbconvert_exporter": "python",
      "pygments_lexer": "ipython3",
      "version": "3.7.6"
    }
  },
  "cells": [
    {
      "cell_type": "markdown",
      "metadata": {
        "id": "view-in-github",
        "colab_type": "text"
      },
      "source": [
        "<a href=\"https://colab.research.google.com/github/pingao2019/DS-Unit-4-Sprint-3-Deep-Learning/blob/master/DS13_LS_DS_441_RNN_and_LSTM.ipynb\" target=\"_parent\"><img src=\"https://colab.research.google.com/assets/colab-badge.svg\" alt=\"Open In Colab\"/></a>"
      ]
    },
    {
      "cell_type": "markdown",
      "metadata": {
        "colab_type": "text",
        "id": "Ldr0HZ193GKb"
      },
      "source": [
        "Lambda School Data Science\n",
        "\n",
        "*Unit 4, Sprint 3, Module 1*\n",
        "\n",
        "---\n"
      ]
    },
    {
      "cell_type": "markdown",
      "metadata": {
        "id": "EZ9f7RvshoNf",
        "colab_type": "text"
      },
      "source": [
        "# Recurrent Neural Networks (RNNs) and Long Short Term Memory (LSTM) (Prepare)\n",
        "\n",
        "<img src=\"https://media.giphy.com/media/l2JJu8U8SoHhQEnoQ/giphy.gif\" width=480 height=356>\n",
        "<br></br>\n",
        "<br></br>"
      ]
    },
    {
      "cell_type": "markdown",
      "metadata": {
        "id": "pyAflL1vhoNg",
        "colab_type": "text"
      },
      "source": [
        "## Learning Objectives\n",
        "- <a href=\"#p1\">Part 1: </a>Describe Neural Networks used for modeling sequences\n",
        "- <a href=\"#p2\">Part 2: </a>Apply a LSTM to a text generation problem using Keras"
      ]
    },
    {
      "cell_type": "markdown",
      "metadata": {
        "colab_type": "text",
        "id": "_IizNKWLomoA"
      },
      "source": [
        "## Overview\n",
        "\n",
        "> \"Yesterday's just a memory - tomorrow is never what it's supposed to be.\" -- Bob Dylan\n",
        "\n",
        "Wish you could save [Time In A Bottle](https://www.youtube.com/watch?v=AnWWj6xOleY)? With statistics you can do the next best thing - understand how data varies over time (or any sequential order), and use the order/time dimension predictively.\n",
        "\n",
        "A sequence is just any enumerated collection - order counts, and repetition is allowed. Python lists are a good elemental example - `[1, 2, 2, -1]` is a valid list, and is different from `[1, 2, -1, 2]`. The data structures we tend to use (e.g. NumPy arrays) are often built on this fundamental structure.\n",
        "\n",
        "A time series is data where you have not just the order but some actual continuous marker for where they lie \"in time\" - this could be a date, a timestamp, [Unix time](https://en.wikipedia.org/wiki/Unix_time), or something else. All time series are also sequences, and for some techniques you may just consider their order and not \"how far apart\" the entries are (if you have particularly consistent data collected at regular intervals it may not matter)."
      ]
    },
    {
      "cell_type": "markdown",
      "metadata": {
        "colab_type": "text",
        "id": "44QZgrPUe3-Y"
      },
      "source": [
        "# Neural Networks for Sequences (Learn)"
      ]
    },
    {
      "cell_type": "markdown",
      "metadata": {
        "colab_type": "text",
        "id": "jcMR2WBqhoNi"
      },
      "source": [
        "## Overview\n",
        "\n",
        "There's plenty more to \"traditional\" time series, but the latest and greatest technique for sequence data is recurrent neural networks. A recurrence relation in math is an equation that uses recursion to define a sequence - a famous example is the Fibonacci numbers:\n",
        "\n",
        "$F_n = F_{n-1} + F_{n-2}$\n",
        "\n",
        "For formal math you also need a base case $F_0=1, F_1=1$, and then the rest builds from there. But for neural networks what we're really talking about are loops:\n",
        "\n",
        "![Recurrent neural network](https://upload.wikimedia.org/wikipedia/commons/b/b5/Recurrent_neural_network_unfold.svg)\n",
        "\n",
        "The hidden layers have edges (output) going back to their own input - this loop means that for any time `t` the training is at least partly based on the output from time `t-1`. The entire network is being represented on the left, and you can unfold the network explicitly to see how it behaves at any given `t`.\n",
        "\n",
        "Different units can have this \"loop\", but a particularly successful one is the long short-term memory unit (LSTM):\n",
        "\n",
        "![Long short-term memory unit](https://upload.wikimedia.org/wikipedia/commons/thumb/6/63/Long_Short-Term_Memory.svg/1024px-Long_Short-Term_Memory.svg.png)\n",
        "\n",
        "There's a lot going on here - in a nutshell, the calculus still works out and backpropagation can still be implemented. The advantage (ane namesake) of LSTM is that it can generally put more weight on recent (short-term) events while not completely losing older (long-term) information.\n",
        "\n",
        "After enough iterations, a typical neural network will start calculating prior gradients that are so small they effectively become zero - this is the [vanishing gradient problem](https://en.wikipedia.org/wiki/Vanishing_gradient_problem), and is what RNN with LSTM addresses. Pay special attention to the $c_t$ parameters and how they pass through the unit to get an intuition for how this problem is solved.\n",
        "\n",
        "So why are these cool? One particularly compelling application is actually not time series but language modeling - language is inherently ordered data (letters/words go one after another, and the order *matters*). [The Unreasonable Effectiveness of Recurrent Neural Networks](https://karpathy.github.io/2015/05/21/rnn-effectiveness/) is a famous and worth reading blog post on this topic.\n",
        "\n",
        "For our purposes, let's use TensorFlow and Keras to train RNNs with natural language. Resources:\n",
        "\n",
        "- https://github.com/keras-team/keras/blob/master/examples/imdb_lstm.py\n",
        "- https://keras.io/layers/recurrent/#lstm\n",
        "- http://adventuresinmachinelearning.com/keras-lstm-tutorial/\n",
        "\n",
        "Note that `tensorflow.contrib` [also has an implementation of RNN/LSTM](https://www.tensorflow.org/tutorials/sequences/recurrent)."
      ]
    },
    {
      "cell_type": "markdown",
      "metadata": {
        "colab_type": "text",
        "id": "eWrQllf8WEd-"
      },
      "source": [
        "## Follow Along\n",
        "\n",
        "Sequences come in many shapes and forms from stock prices to text. We'll focus on text, because modeling text as a sequence is a strength of Neural Networks. Let's start with a simple classification task using a TensorFlow tutorial. "
      ]
    },
    {
      "cell_type": "markdown",
      "metadata": {
        "colab_type": "text",
        "id": "c5ZmWXCPhoNj"
      },
      "source": [
        "### RNN/LSTM Sentiment Classification with Keras"
      ]
    },
    {
      "cell_type": "code",
      "metadata": {
        "colab_type": "code",
        "id": "Ti23G0gRe3kr",
        "outputId": "cc80510d-942a-4039-adf8-048bb1d95d5e",
        "colab": {
          "base_uri": "https://localhost:8080/",
          "height": 102
        }
      },
      "source": [
        "'''\n",
        "#Trains an LSTM model on the IMDB sentiment classification task.\n",
        "The dataset is actually too small for LSTM to be of any advantage\n",
        "compared to simpler, much faster methods such as TF-IDF + LogReg.\n",
        "**Notes**\n",
        "- RNNs are tricky. Choice of batch size is important,\n",
        "choice of loss and optimizer is critical, etc.\n",
        "Some configurations won't converge.\n",
        "- LSTM loss decrease patterns during training can be quite different\n",
        "from what you see with CNNs/MLPs/etc.\n",
        "'''\n",
        "from __future__ import print_function\n",
        "\n",
        "from tensorflow.keras.preprocessing import sequence\n",
        "from tensorflow.keras.models import Sequential\n",
        "from tensorflow.keras.layers import Dense, Embedding\n",
        "from tensorflow.keras.layers import LSTM\n",
        "from tensorflow.keras.datasets import imdb\n",
        "\n",
        "max_features = 20000\n",
        "# cut texts after this number of words (among top max_features most common words)\n",
        "maxlen = 80\n",
        "batch_size = 32\n",
        "\n",
        "print('Loading data...')\n",
        "(x_train, y_train), (x_test, y_test) = imdb.load_data(num_words=max_features)\n",
        "print(len(x_train), 'train sequences')\n",
        "print(len(x_test), 'test sequences')"
      ],
      "execution_count": 0,
      "outputs": [
        {
          "output_type": "stream",
          "text": [
            "Loading data...\n",
            "Downloading data from https://storage.googleapis.com/tensorflow/tf-keras-datasets/imdb.npz\n",
            "17465344/17464789 [==============================] - 0s 0us/step\n",
            "25000 train sequences\n",
            "25000 test sequences\n"
          ],
          "name": "stdout"
        }
      ]
    },
    {
      "cell_type": "code",
      "metadata": {
        "id": "yLzheww7hoNo",
        "colab_type": "code",
        "outputId": "84264ec3-78b7-4457-ab30-bdc57409a96d",
        "colab": {
          "base_uri": "https://localhost:8080/",
          "height": 34
        }
      },
      "source": [
        "len(x_train[608])"
      ],
      "execution_count": 0,
      "outputs": [
        {
          "output_type": "execute_result",
          "data": {
            "text/plain": [
              "170"
            ]
          },
          "metadata": {
            "tags": []
          },
          "execution_count": 8
        }
      ]
    },
    {
      "cell_type": "markdown",
      "metadata": {
        "id": "ArcMD15QrQjR",
        "colab_type": "text"
      },
      "source": [
        ""
      ]
    },
    {
      "cell_type": "code",
      "metadata": {
        "id": "bn5R9IhUhoNr",
        "colab_type": "code",
        "outputId": "4a506c16-ab1c-4554-cedc-7c1a9d04135b",
        "colab": {
          "base_uri": "https://localhost:8080/",
          "height": 68
        }
      },
      "source": [
        "print('Pad Sequences (samples x time)')\n",
        "x_train = sequence.pad_sequences(x_train, maxlen=maxlen)\n",
        "x_test = sequence.pad_sequences(x_test, maxlen=maxlen)\n",
        "print('x_train shape: ', x_train.shape)\n",
        "print('x_test shape: ', x_test.shape)"
      ],
      "execution_count": 0,
      "outputs": [
        {
          "output_type": "stream",
          "text": [
            "Pad Sequences (samples x time)\n",
            "x_train shape:  (25000, 80)\n",
            "x_test shape:  (25000, 80)\n"
          ],
          "name": "stdout"
        }
      ]
    },
    {
      "cell_type": "code",
      "metadata": {
        "id": "4UqBCySVhoNu",
        "colab_type": "code",
        "outputId": "dd0841ce-1d0e-4a64-b2da-fd47530bbbbf",
        "colab": {
          "base_uri": "https://localhost:8080/",
          "height": 187
        }
      },
      "source": [
        "x_train[0]"
      ],
      "execution_count": 0,
      "outputs": [
        {
          "output_type": "execute_result",
          "data": {
            "text/plain": [
              "array([   15,   256,     4,     2,     7,  3766,     5,   723,    36,\n",
              "          71,    43,   530,   476,    26,   400,   317,    46,     7,\n",
              "           4, 12118,  1029,    13,   104,    88,     4,   381,    15,\n",
              "         297,    98,    32,  2071,    56,    26,   141,     6,   194,\n",
              "        7486,    18,     4,   226,    22,    21,   134,   476,    26,\n",
              "         480,     5,   144,    30,  5535,    18,    51,    36,    28,\n",
              "         224,    92,    25,   104,     4,   226,    65,    16,    38,\n",
              "        1334,    88,    12,    16,   283,     5,    16,  4472,   113,\n",
              "         103,    32,    15,    16,  5345,    19,   178,    32],\n",
              "      dtype=int32)"
            ]
          },
          "metadata": {
            "tags": []
          },
          "execution_count": 10
        }
      ]
    },
    {
      "cell_type": "code",
      "metadata": {
        "id": "NiQSvjN_hoNx",
        "colab_type": "code",
        "outputId": "bf4f261f-8af9-4a39-a42c-47ab3920e219",
        "colab": {
          "base_uri": "https://localhost:8080/",
          "height": 255
        }
      },
      "source": [
        "model = Sequential()\n",
        "\n",
        "model.add(Embedding(max_features, 128))\n",
        "model.add(LSTM(128, activation='tanh', recurrent_activation='sigmoid', dropout=0.2, recurrent_dropout=0, unroll=False, use_bias=True))\n",
        "model.add(Dense(1, activation='sigmoid'))\n",
        "\n",
        "model.compile(loss='binary_crossentropy',\n",
        "              optimizer='adam', \n",
        "              metrics=['accuracy'])\n",
        "\n",
        "model.summary()"
      ],
      "execution_count": 0,
      "outputs": [
        {
          "output_type": "stream",
          "text": [
            "Model: \"sequential_1\"\n",
            "_________________________________________________________________\n",
            "Layer (type)                 Output Shape              Param #   \n",
            "=================================================================\n",
            "embedding_1 (Embedding)      (None, None, 128)         2560000   \n",
            "_________________________________________________________________\n",
            "lstm_1 (LSTM)                (None, 128)               131584    \n",
            "_________________________________________________________________\n",
            "dense_1 (Dense)              (None, 1)                 129       \n",
            "=================================================================\n",
            "Total params: 2,691,713\n",
            "Trainable params: 2,691,713\n",
            "Non-trainable params: 0\n",
            "_________________________________________________________________\n"
          ],
          "name": "stdout"
        }
      ]
    },
    {
      "cell_type": "code",
      "metadata": {
        "id": "5vFK43fChoN0",
        "colab_type": "code",
        "outputId": "d2e4c12c-418f-4898-933d-61b8d6af7499",
        "colab": {
          "base_uri": "https://localhost:8080/",
          "height": 697
        }
      },
      "source": [
        "unicorns = model.fit(x_train, y_train,\n",
        "          batch_size=batch_size, \n",
        "          epochs=20, \n",
        "          validation_data=(x_test,y_test))"
      ],
      "execution_count": 0,
      "outputs": [
        {
          "output_type": "stream",
          "text": [
            "Epoch 1/20\n",
            "782/782 [==============================] - 24s 31ms/step - loss: 0.4299 - accuracy: 0.8000 - val_loss: 0.3692 - val_accuracy: 0.8361\n",
            "Epoch 2/20\n",
            "782/782 [==============================] - 24s 31ms/step - loss: 0.2588 - accuracy: 0.8976 - val_loss: 0.3704 - val_accuracy: 0.8394\n",
            "Epoch 3/20\n",
            "782/782 [==============================] - 24s 31ms/step - loss: 0.1703 - accuracy: 0.9362 - val_loss: 0.4904 - val_accuracy: 0.8238\n",
            "Epoch 4/20\n",
            "782/782 [==============================] - 24s 31ms/step - loss: 0.1148 - accuracy: 0.9581 - val_loss: 0.5255 - val_accuracy: 0.8256\n",
            "Epoch 5/20\n",
            "782/782 [==============================] - 24s 31ms/step - loss: 0.0747 - accuracy: 0.9742 - val_loss: 0.5751 - val_accuracy: 0.8194\n",
            "Epoch 6/20\n",
            "782/782 [==============================] - 24s 31ms/step - loss: 0.0574 - accuracy: 0.9797 - val_loss: 0.7547 - val_accuracy: 0.8007\n",
            "Epoch 7/20\n",
            "782/782 [==============================] - 24s 31ms/step - loss: 0.0393 - accuracy: 0.9868 - val_loss: 0.8385 - val_accuracy: 0.8133\n",
            "Epoch 8/20\n",
            "782/782 [==============================] - 25s 32ms/step - loss: 0.0319 - accuracy: 0.9894 - val_loss: 0.8710 - val_accuracy: 0.8198\n",
            "Epoch 9/20\n",
            "782/782 [==============================] - 24s 31ms/step - loss: 0.0209 - accuracy: 0.9931 - val_loss: 0.9430 - val_accuracy: 0.8140\n",
            "Epoch 10/20\n",
            "782/782 [==============================] - 24s 31ms/step - loss: 0.0209 - accuracy: 0.9933 - val_loss: 0.8682 - val_accuracy: 0.8137\n",
            "Epoch 11/20\n",
            "782/782 [==============================] - 24s 31ms/step - loss: 0.0203 - accuracy: 0.9936 - val_loss: 0.9206 - val_accuracy: 0.8116\n",
            "Epoch 12/20\n",
            "782/782 [==============================] - 24s 31ms/step - loss: 0.0138 - accuracy: 0.9958 - val_loss: 1.0560 - val_accuracy: 0.8170\n",
            "Epoch 13/20\n",
            "782/782 [==============================] - 24s 30ms/step - loss: 0.0108 - accuracy: 0.9969 - val_loss: 1.0260 - val_accuracy: 0.8105\n",
            "Epoch 14/20\n",
            "782/782 [==============================] - 24s 31ms/step - loss: 0.0135 - accuracy: 0.9954 - val_loss: 0.9533 - val_accuracy: 0.8132\n",
            "Epoch 15/20\n",
            "782/782 [==============================] - 24s 31ms/step - loss: 0.0060 - accuracy: 0.9981 - val_loss: 1.0703 - val_accuracy: 0.8102\n",
            "Epoch 16/20\n",
            "782/782 [==============================] - 24s 31ms/step - loss: 0.0086 - accuracy: 0.9972 - val_loss: 1.0265 - val_accuracy: 0.8096\n",
            "Epoch 17/20\n",
            "782/782 [==============================] - 24s 31ms/step - loss: 0.0096 - accuracy: 0.9971 - val_loss: 1.2472 - val_accuracy: 0.8094\n",
            "Epoch 18/20\n",
            "782/782 [==============================] - 24s 31ms/step - loss: 0.0059 - accuracy: 0.9983 - val_loss: 1.0555 - val_accuracy: 0.8035\n",
            "Epoch 19/20\n",
            "782/782 [==============================] - 24s 31ms/step - loss: 0.0061 - accuracy: 0.9985 - val_loss: 1.1190 - val_accuracy: 0.8048\n",
            "Epoch 20/20\n",
            "782/782 [==============================] - 24s 31ms/step - loss: 0.0067 - accuracy: 0.9979 - val_loss: 1.1496 - val_accuracy: 0.8000\n"
          ],
          "name": "stdout"
        }
      ]
    },
    {
      "cell_type": "code",
      "metadata": {
        "id": "Sbp5Se2dhoN2",
        "colab_type": "code",
        "outputId": "b70ec093-01ec-4670-aea0-161f9322b80d",
        "colab": {
          "base_uri": "https://localhost:8080/",
          "height": 295
        }
      },
      "source": [
        "import matplotlib.pyplot as plt\n",
        "\n",
        "# Plot training & validation loss values\n",
        "plt.plot(unicorns.history['loss'])\n",
        "plt.plot(unicorns.history['val_loss'])\n",
        "plt.title('Model loss')\n",
        "plt.ylabel('Loss')\n",
        "plt.xlabel('Epoch')\n",
        "plt.legend(['Train', 'Test'], loc='upper left')\n",
        "plt.show();"
      ],
      "execution_count": 0,
      "outputs": [
        {
          "output_type": "display_data",
          "data": {
            "image/png": "[encoded data removed]",
            "text/plain": [
              "<Figure size 432x288 with 1 Axes>"
            ]
          },
          "metadata": {
            "tags": [],
            "needs_background": "light"
          }
        }
      ]
    },
    {
      "cell_type": "code",
      "metadata": {
        "id": "RXkhQfUQwF-V",
        "colab_type": "code",
        "outputId": "2c7611e2-f4e9-4ae4-90e3-9fde5e76ff80",
        "colab": {
          "base_uri": "https://localhost:8080/",
          "height": 295
        }
      },
      "source": [
        "plt.plot(unicorns.history['accuracy'])\n",
        "plt.plot(unicorns.history['val_accuracy'])\n",
        "plt.title('Model Accuracy')\n",
        "plt.ylabel('Accuracy')\n",
        "plt.xlabel('Epoch')\n",
        "plt.legend(['Train', 'Test'], loc='upper left')\n",
        "plt.show();"
      ],
      "execution_count": 0,
      "outputs": [
        {
          "output_type": "display_data",
          "data": {
            "image/png": "[encoded data removed]",
            "text/plain": [
              "<Figure size 432x288 with 1 Axes>"
            ]
          },
          "metadata": {
            "tags": [],
            "needs_background": "light"
          }
        }
      ]
    },
    {
      "cell_type": "code",
      "metadata": {
        "id": "MoLlIbbbwf_W",
        "colab_type": "code",
        "outputId": "ca150652-7aa5-4a03-f404-8f98a9dd710f",
        "colab": {
          "base_uri": "https://localhost:8080/",
          "height": 255
        }
      },
      "source": [
        "from tensorflow.keras.optimizers import Nadam\n",
        "\n",
        "opt = Nadam(learning_rate=0.0001)\n",
        "\n",
        "model = Sequential()\n",
        "\n",
        "model.add(Embedding(max_features, 128))\n",
        "model.add(LSTM(128, activation='tanh', recurrent_activation='sigmoid', dropout=0.2, recurrent_dropout=0, unroll=False, use_bias=True))\n",
        "model.add(Dense(1, activation='sigmoid'))\n",
        "\n",
        "model.compile(loss='binary_crossentropy',\n",
        "              optimizer=opt, \n",
        "              metrics=['accuracy'])\n",
        "\n",
        "model.summary()"
      ],
      "execution_count": 0,
      "outputs": [
        {
          "output_type": "stream",
          "text": [
            "Model: \"sequential_2\"\n",
            "_________________________________________________________________\n",
            "Layer (type)                 Output Shape              Param #   \n",
            "=================================================================\n",
            "embedding_2 (Embedding)      (None, None, 128)         2560000   \n",
            "_________________________________________________________________\n",
            "lstm_2 (LSTM)                (None, 128)               131584    \n",
            "_________________________________________________________________\n",
            "dense_2 (Dense)              (None, 1)                 129       \n",
            "=================================================================\n",
            "Total params: 2,691,713\n",
            "Trainable params: 2,691,713\n",
            "Non-trainable params: 0\n",
            "_________________________________________________________________\n"
          ],
          "name": "stdout"
        }
      ]
    },
    {
      "cell_type": "code",
      "metadata": {
        "id": "dIOGwIuIxBFl",
        "colab_type": "code",
        "outputId": "d9f8491a-621d-4ecf-80fb-2b45047dd256",
        "colab": {
          "base_uri": "https://localhost:8080/",
          "height": 357
        }
      },
      "source": [
        "unicorns2 = model.fit(x_train, y_train,\n",
        "          batch_size=batch_size, \n",
        "          epochs=10, \n",
        "          validation_data=(x_test,y_test))"
      ],
      "execution_count": 0,
      "outputs": [
        {
          "output_type": "stream",
          "text": [
            "Epoch 1/10\n",
            "782/782 [==============================] - 24s 30ms/step - loss: 0.5416 - accuracy: 0.7125 - val_loss: 0.4351 - val_accuracy: 0.8028\n",
            "Epoch 2/10\n",
            "782/782 [==============================] - 23s 30ms/step - loss: 0.3606 - accuracy: 0.8440 - val_loss: 0.3830 - val_accuracy: 0.8282\n",
            "Epoch 3/10\n",
            "782/782 [==============================] - 23s 29ms/step - loss: 0.2952 - accuracy: 0.8770 - val_loss: 0.3651 - val_accuracy: 0.8360\n",
            "Epoch 4/10\n",
            "782/782 [==============================] - 23s 29ms/step - loss: 0.2531 - accuracy: 0.8977 - val_loss: 0.3666 - val_accuracy: 0.8356\n",
            "Epoch 5/10\n",
            "782/782 [==============================] - 23s 29ms/step - loss: 0.2214 - accuracy: 0.9138 - val_loss: 0.4216 - val_accuracy: 0.8229\n",
            "Epoch 6/10\n",
            "782/782 [==============================] - 23s 30ms/step - loss: 0.1970 - accuracy: 0.9252 - val_loss: 0.3831 - val_accuracy: 0.8307\n",
            "Epoch 7/10\n",
            "782/782 [==============================] - 23s 30ms/step - loss: 0.1758 - accuracy: 0.9337 - val_loss: 0.3823 - val_accuracy: 0.8302\n",
            "Epoch 8/10\n",
            "782/782 [==============================] - 23s 30ms/step - loss: 0.1574 - accuracy: 0.9421 - val_loss: 0.5129 - val_accuracy: 0.8179\n",
            "Epoch 9/10\n",
            "782/782 [==============================] - 23s 30ms/step - loss: 0.1412 - accuracy: 0.9490 - val_loss: 0.4072 - val_accuracy: 0.8253\n",
            "Epoch 10/10\n",
            "782/782 [==============================] - 23s 30ms/step - loss: 0.1304 - accuracy: 0.9530 - val_loss: 0.5031 - val_accuracy: 0.8198\n"
          ],
          "name": "stdout"
        }
      ]
    },
    {
      "cell_type": "code",
      "metadata": {
        "id": "FPK3L8ZByJ1O",
        "colab_type": "code",
        "outputId": "fdce676b-a884-4f94-f824-73d18c4b4486",
        "colab": {
          "base_uri": "https://localhost:8080/",
          "height": 295
        }
      },
      "source": [
        "plt.plot(unicorns2.history['accuracy'])\n",
        "plt.plot(unicorns2.history['val_accuracy'])\n",
        "plt.title('Model Accuracy')\n",
        "plt.ylabel('Accuracy')\n",
        "plt.xlabel('Epoch')\n",
        "plt.legend(['Train', 'Test'], loc='upper left')\n",
        "plt.show();"
      ],
      "execution_count": 0,
      "outputs": [
        {
          "output_type": "display_data",
          "data": {
            "image/png": "[encoded data removed]",
            "text/plain": [
              "<Figure size 432x288 with 1 Axes>"
            ]
          },
          "metadata": {
            "tags": [],
            "needs_background": "light"
          }
        }
      ]
    },
    {
      "cell_type": "markdown",
      "metadata": {
        "id": "3FWgWClGhoN5",
        "colab_type": "text"
      },
      "source": [
        "## Challenge\n",
        "\n",
        "You will be expected to use an Keras LSTM for a classicification task on the *Sprint Challenge*. "
      ]
    },
    {
      "cell_type": "markdown",
      "metadata": {
        "colab_type": "text",
        "id": "7pETWPIe362y"
      },
      "source": [
        "# LSTM Text generation with Keras (Learn)"
      ]
    },
    {
      "cell_type": "markdown",
      "metadata": {
        "colab_type": "text",
        "id": "5SXtH1ZGhoN6"
      },
      "source": [
        "## Overview\n",
        "\n",
        "What else can we do with LSTMs? Since we're analyzing the *sequence*, we can do more than classify - we can *generate* text. I'ved pulled some news stories using [newspaper](https://github.com/codelucas/newspaper/).\n",
        "\n",
        "This example is drawn from the Keras [documentation](https://keras.io/examples/lstm_text_generation/)."
      ]
    },
    {
      "cell_type": "code",
      "metadata": {
        "id": "6L1scpp_hoN7",
        "colab_type": "code",
        "colab": {}
      },
      "source": [
        "from tensorflow.keras.callbacks import LambdaCallback\n",
        "from tensorflow.keras.models import Sequential\n",
        "from tensorflow.keras.layers import Dense, LSTM\n",
        "from tensorflow.keras.optimizers import RMSprop\n",
        "\n",
        "import numpy as np\n",
        "import random\n",
        "import sys\n",
        "import os"
      ],
      "execution_count": 0,
      "outputs": []
    },
    {
      "cell_type": "code",
      "metadata": {
        "id": "naL3x-swhoN-",
        "colab_type": "code",
        "outputId": "97370a61-c793-47a4-81b8-81573d8a0fb1",
        "colab": {
          "base_uri": "https://localhost:8080/",
          "height": 204
        }
      },
      "source": [
        "import pandas as pd\n",
        "\n",
        "url = \"https://raw.githubusercontent.com/LambdaSchool/DS-Unit-4-Sprint-3-Deep-Learning/master/module1-rnn-and-lstm/wp_articles.json\"\n",
        "\n",
        "data = pd.read_json(url)\n",
        "data.head()"
      ],
      "execution_count": 0,
      "outputs": [
        {
          "output_type": "execute_result",
          "data": {
            "text/html": [
              "<div>\n",
              "<style scoped>\n",
              "    .dataframe tbody tr th:only-of-type {\n",
              "        vertical-align: middle;\n",
              "    }\n",
              "\n",
              "    .dataframe tbody tr th {\n",
              "        vertical-align: top;\n",
              "    }\n",
              "\n",
              "    .dataframe thead th {\n",
              "        text-align: right;\n",
              "    }\n",
              "</style>\n",
              "<table border=\"1\" class=\"dataframe\">\n",
              "  <thead>\n",
              "    <tr style=\"text-align: right;\">\n",
              "      <th></th>\n",
              "      <th>article</th>\n",
              "    </tr>\n",
              "  </thead>\n",
              "  <tbody>\n",
              "    <tr>\n",
              "      <th>0</th>\n",
              "      <td>Contributing columnist\\n\\nThe House is on fire...</td>\n",
              "    </tr>\n",
              "    <tr>\n",
              "      <th>1</th>\n",
              "      <td>When President Trump announced his decision to...</td>\n",
              "    </tr>\n",
              "    <tr>\n",
              "      <th>10</th>\n",
              "      <td>Russian President Vladimir Putin speaks at a s...</td>\n",
              "    </tr>\n",
              "    <tr>\n",
              "      <th>100</th>\n",
              "      <td>“The Queen’s Speech” is designed to acknowledg...</td>\n",
              "    </tr>\n",
              "    <tr>\n",
              "      <th>101</th>\n",
              "      <td>Like an aging rock star, the president is now ...</td>\n",
              "    </tr>\n",
              "  </tbody>\n",
              "</table>\n",
              "</div>"
            ],
            "text/plain": [
              "                                               article\n",
              "0    Contributing columnist\\n\\nThe House is on fire...\n",
              "1    When President Trump announced his decision to...\n",
              "10   Russian President Vladimir Putin speaks at a s...\n",
              "100  “The Queen’s Speech” is designed to acknowledg...\n",
              "101  Like an aging rock star, the president is now ..."
            ]
          },
          "metadata": {
            "tags": []
          },
          "execution_count": 23
        }
      ]
    },
    {
      "cell_type": "code",
      "metadata": {
        "id": "1zizUdIchoOA",
        "colab_type": "code",
        "colab": {}
      },
      "source": [
        "# Read in Data\n",
        "\n",
        "data = data['article'].tolist()"
      ],
      "execution_count": 0,
      "outputs": []
    },
    {
      "cell_type": "code",
      "metadata": {
        "id": "mwNmCgkkhoOD",
        "colab_type": "code",
        "outputId": "0c685bb3-794d-46ad-ee25-cf16e2a7d550",
        "colab": {
          "base_uri": "https://localhost:8080/",
          "height": 34
        }
      },
      "source": [
        "len(data)"
      ],
      "execution_count": 0,
      "outputs": [
        {
          "output_type": "execute_result",
          "data": {
            "text/plain": [
              "136"
            ]
          },
          "metadata": {
            "tags": []
          },
          "execution_count": 25
        }
      ]
    },
    {
      "cell_type": "code",
      "metadata": {
        "id": "MrJWHkJqhoOF",
        "colab_type": "code",
        "outputId": "36a46a99-6957-4ebe-f6bf-882c9353e5c0",
        "colab": {}
      },
      "source": [
        "data[-1]"
      ],
      "execution_count": 0,
      "outputs": [
        {
          "output_type": "execute_result",
          "data": {
            "text/plain": [
              "'Here are some recent headlines from schools around the country: In Indiana, officials played a segment of a 911 call of a teacher in a panic during the Columbine High School shooting to students. In Ohio, officers fired blank shots during an active-shooter drill. In South Carolina, an officer dressed in black posed as an intruder on an unannounced drill. In Michigan, a school is spending $48 million on a renovation that includes curved hallways and hiding niches, in hopes of protecting students from a mass shooting. In Florida, a police officer arrested two 6-year-old students for misdemeanor battery. In Colorado, teachers received buckets and kitty litter for students to use as toilets in case of a prolonged school lockdown.\\n\\nMass shootings, meaning incidents with at least two deaths, in schools are horrifying. But it is highly unlikely that a child would ever witness one. Research indicates that some security measures brought in to make schools safer — like realistic shooter trainings — may be causing children more harm than good.\\n\\nIt is 10 times more likely that a student will die on the way to school.\\n\\nOur chances of dying in a fire are also much greater — 1 in 1,500. But we don’t overreact.\\n\\nMore children have died from lightning strikes than from mass shootings in schools in the past 20 years. Still, we don’t obsess about them.\\n\\nExactly how common are school shootings?\\n\\nIn the two decades since Columbine, there have been 10 mass shootings in schools according to a recent analysis by James Alan Fox, a professor of criminology at Northeastern University who has been studying school violence for several decades. In total, 81 people have been killed, 64 of them students. That’s an average of four deaths per year, three of them students.\\n\\nEven one death is too many. But for perspective, 729 children committed suicide with a firearm in 2017, and 863 were victims of homicides by guns that year.\\n\\nSchool-age children killed by guns 729 suicides in 2017 863 homicides Average killed in school mass shootings each year since 1999 Sources: Centers for Disease Control and Prevention; average students killed since 1999 by James Alan Fox, Northeastern University. School-age children killed by guns 729 suicides in 2017 863 homicides Average killed in school mass shootings each year since 1999 Sources: Centers for Disease Control and Prevention; average students killed since 1999 by James Alan Fox, Northeastern University. School-age children killed by guns 729 suicides in 2017 863 homicides in 2017 Average killed in school mass shootings each year since 1999 Sources: Centers for Disease Control and Prevention; average students killed since 1999 by James Alan Fox, Northeastern University.\\n\\nNearly every public school in the country now conducts lockdown drills, and even the youngest students participate (last year, one school adapted a lullaby to prepare kindergartners). But very few studies have looked into the efficiency of these drills. One of them concluded that the practice can be helpful to teach students basic safety procedures. But to the author of the study, Jaclyn Schildkraut, an associate professor at the State University of New York at Oswego, there is no point in dramatizing the drills. “All that causes is fear,” she said.\\n\\nRestaurants have 10 times as many homicides as schools. Why do we want to arm teachers and not wait staffs?\\n\\n“There’s a misunderstanding in where the dangers are,” said Dewey G. Cornell, a psychologist and professor at the University of Virginia. “Kids are at far greater danger going to and from school, than they are in the classroom,” he said. “School counseling, academic support, that’s gonna do far more to keep our communities safe.”\\n\\nUnlike the United States, the other wealthy countries in the Group of Seven don’t do lockdown drills and rarely have school shootings. What is the United States doing that is so different from them?\\n\\nGun deaths per 100,000 12 United States 10 8 6 4 Other G7 countries 2 0 25 50 75 100 Guns per 100 people Sources: Institute for Health Metrics and Evaluation, Global Burden of Disease Study 2016; Small Arms Survey, 2017. Gun deaths per 100,000 12 United States 10 8 6 4 Other G7 countries 2 0 25 50 75 100 Guns per 100 people Sources: Institute for Health Metrics and Evaluation, Global Burden of Disease Study 2016; Small Arms Survey, 2017. Gun deaths per 100,000 12 United States 10 8 6 4 Other G7 countries 2 0 25 50 75 100 Guns per 100 people Sources: Institute for Health Metrics and Evaluation, Global Burden of Disease Study 2016; Small Arms Survey, 2017.\\n\\nMany researchers think easy access to guns is an important part of the problem. “Violence in schools is just a small part of the larger problem of gun violence in our society,” Cornell wrote in a statement about prevention of violence in schools and communities.\\n\\nMisguided safety measures, such as dramatized lockdown drills, may give us the impression that we are protecting children, when, in fact, we are handing them a burden that adults are failing to address.\\n\\nRead more:\\n\\n‘What if someone was shooting?’\\n\\nThey grew up practicing lockdown drills. Now they’re steering the conversation on gun violence.\\n\\nSchool shootings are extraordinarily rare. Why is fear of them driving policy?\\n\\nPutting more cops in schools won’t make schools safer, and it will likely inflict a lot of harm'"
            ]
          },
          "metadata": {
            "tags": []
          },
          "execution_count": 20
        }
      ]
    },
    {
      "cell_type": "code",
      "metadata": {
        "id": "I0AHJxjfhoOH",
        "colab_type": "code",
        "colab": {}
      },
      "source": [
        "# Encode Data as Chars\n",
        "\n",
        "# Gather all text \n",
        "# Why? 1. See all possible characters 2. For training / splitting later\n",
        "text = \" \".join(data)\n",
        " \n",
        "# Unique Characters\n",
        "chars = list(set(text))\n",
        "\n",
        "# Lookup Tables\n",
        "char_int = {c:i for i, c in enumerate(chars)} \n",
        "int_char = {i:c for i, c in enumerate(chars)} "
      ],
      "execution_count": 0,
      "outputs": []
    },
    {
      "cell_type": "code",
      "metadata": {
        "id": "3_ZSa1FEhoOK",
        "colab_type": "code",
        "outputId": "25c61ae3-e58e-4f05-b22c-f2ea5f15599f",
        "colab": {
          "base_uri": "https://localhost:8080/",
          "height": 34
        }
      },
      "source": [
        "len(chars)"
      ],
      "execution_count": 0,
      "outputs": [
        {
          "output_type": "execute_result",
          "data": {
            "text/plain": [
              "121"
            ]
          },
          "metadata": {
            "tags": []
          },
          "execution_count": 27
        }
      ]
    },
    {
      "cell_type": "code",
      "metadata": {
        "id": "KC7TM-KQhoOM",
        "colab_type": "code",
        "outputId": "7216d4e4-e6d3-4a25-dfd2-0222ea9c2b97",
        "colab": {
          "base_uri": "https://localhost:8080/",
          "height": 34
        }
      },
      "source": [
        "# Create the sequence data\n",
        "\n",
        "maxlen = 80\n",
        "step = 1\n",
        "\n",
        "encoded = [char_int[c] for c in text]\n",
        "\n",
        "sequences = [] # Each element is 80 chars long\n",
        "next_char = [] # One element for each sequence\n",
        "\n",
        "for i in range(0, len(encoded) - maxlen, step):\n",
        "    \n",
        "    sequences.append(encoded[i : i + maxlen])\n",
        "    next_char.append(encoded[i + maxlen])\n",
        "    \n",
        "print('sequences: ', len(sequences))\n"
      ],
      "execution_count": 0,
      "outputs": [
        {
          "output_type": "stream",
          "text": [
            "sequences:  891830\n"
          ],
          "name": "stdout"
        }
      ]
    },
    {
      "cell_type": "code",
      "metadata": {
        "id": "0jVUSpnrhoOP",
        "colab_type": "code",
        "outputId": "a9bc7f60-56a1-4bc6-b898-0de84cdde9ee",
        "colab": {
          "base_uri": "https://localhost:8080/",
          "height": 1000
        }
      },
      "source": [
        "sequences[0]"
      ],
      "execution_count": 0,
      "outputs": [
        {
          "output_type": "execute_result",
          "data": {
            "text/plain": [
              "[95,\n",
              " 49,\n",
              " 46,\n",
              " 83,\n",
              " 3,\n",
              " 106,\n",
              " 96,\n",
              " 37,\n",
              " 83,\n",
              " 106,\n",
              " 46,\n",
              " 34,\n",
              " 119,\n",
              " 55,\n",
              " 49,\n",
              " 27,\n",
              " 37,\n",
              " 88,\n",
              " 46,\n",
              " 106,\n",
              " 103,\n",
              " 83,\n",
              " 7,\n",
              " 7,\n",
              " 120,\n",
              " 30,\n",
              " 10,\n",
              " 119,\n",
              " 64,\n",
              " 49,\n",
              " 37,\n",
              " 103,\n",
              " 10,\n",
              " 119,\n",
              " 106,\n",
              " 103,\n",
              " 119,\n",
              " 49,\n",
              " 46,\n",
              " 119,\n",
              " 84,\n",
              " 106,\n",
              " 3,\n",
              " 10,\n",
              " 67,\n",
              " 119,\n",
              " 51,\n",
              " 46,\n",
              " 100,\n",
              " 119,\n",
              " 48,\n",
              " 106,\n",
              " 83,\n",
              " 30,\n",
              " 119,\n",
              " 10,\n",
              " 87,\n",
              " 55,\n",
              " 30,\n",
              " 119,\n",
              " 110,\n",
              " 87,\n",
              " 103,\n",
              " 103,\n",
              " 106,\n",
              " 46,\n",
              " 34,\n",
              " 119,\n",
              " 100,\n",
              " 87,\n",
              " 93,\n",
              " 31,\n",
              " 119,\n",
              " 53,\n",
              " 49,\n",
              " 46,\n",
              " 87,\n",
              " 27,\n",
              " 100,\n",
              " 119]"
            ]
          },
          "metadata": {
            "tags": []
          },
          "execution_count": 29
        }
      ]
    },
    {
      "cell_type": "code",
      "metadata": {
        "id": "L_lE9Ve1hoOS",
        "colab_type": "code",
        "colab": {}
      },
      "source": [
        "# Create x & y\n",
        "\n",
        "x = np.zeros((len(sequences), maxlen, len(chars)), dtype=np.bool)\n",
        "y = np.zeros((len(sequences),len(chars)), dtype=np.bool)\n",
        "\n",
        "for i, sequence in enumerate(sequences):\n",
        "    for t, char in enumerate(sequence):\n",
        "        x[i,t,char] = 1\n",
        "        \n",
        "    y[i, next_char[i]] = 1"
      ],
      "execution_count": 0,
      "outputs": []
    },
    {
      "cell_type": "code",
      "metadata": {
        "id": "JgoAcEIHhoOU",
        "colab_type": "code",
        "outputId": "07755483-c32b-4924-8274-443230216988",
        "colab": {
          "base_uri": "https://localhost:8080/",
          "height": 34
        }
      },
      "source": [
        "x.shape"
      ],
      "execution_count": 0,
      "outputs": [
        {
          "output_type": "execute_result",
          "data": {
            "text/plain": [
              "(891830, 80, 121)"
            ]
          },
          "metadata": {
            "tags": []
          },
          "execution_count": 31
        }
      ]
    },
    {
      "cell_type": "code",
      "metadata": {
        "id": "C5R3r0mHhoOW",
        "colab_type": "code",
        "outputId": "0a57a76f-1d0d-464c-87a1-61c4ebeb7278",
        "colab": {
          "base_uri": "https://localhost:8080/",
          "height": 34
        }
      },
      "source": [
        "y.shape"
      ],
      "execution_count": 0,
      "outputs": [
        {
          "output_type": "execute_result",
          "data": {
            "text/plain": [
              "(891830, 121)"
            ]
          },
          "metadata": {
            "tags": []
          },
          "execution_count": 32
        }
      ]
    },
    {
      "cell_type": "code",
      "metadata": {
        "id": "ymRnZmQMhoOZ",
        "colab_type": "code",
        "colab": {}
      },
      "source": [
        "# build the model: a single LSTM\n",
        "\n",
        "model = Sequential()\n",
        "model.add(LSTM(128, input_shape=(maxlen, len(chars)), activation='tanh', recurrent_activation='sigmoid', dropout=0.2, recurrent_dropout=0, unroll=False, use_bias=True))\n",
        "model.add(Dense(len(chars), activation='softmax'))\n",
        "\n",
        "model.compile(loss='categorical_crossentropy', optimizer='adam')"
      ],
      "execution_count": 0,
      "outputs": []
    },
    {
      "cell_type": "code",
      "metadata": {
        "id": "WyFUVdyqhoOb",
        "colab_type": "code",
        "colab": {}
      },
      "source": [
        "def sample(preds):\n",
        "    # helper function to sample an index from a probability array\n",
        "    preds = np.asarray(preds).astype('float64')\n",
        "    preds = np.log(preds) / 1\n",
        "    exp_preds = np.exp(preds)\n",
        "    preds = exp_preds / np.sum(exp_preds)\n",
        "    probas = np.random.multinomial(1, preds, 1)\n",
        "    return np.argmax(probas)"
      ],
      "execution_count": 0,
      "outputs": []
    },
    {
      "cell_type": "code",
      "metadata": {
        "id": "FwaokHhHhoOf",
        "colab_type": "code",
        "colab": {}
      },
      "source": [
        "def on_epoch_end(epoch, _):\n",
        "    # Function invoked at end of each epoch. Prints generated text.\n",
        "    \n",
        "    print()\n",
        "    print('----- Generating text after Epoch: %d' % epoch)\n",
        "    \n",
        "    start_index = random.randint(0, len(text) - maxlen - 1)\n",
        "    \n",
        "    generated = ''\n",
        "    \n",
        "    sentence = text[start_index: start_index + maxlen]\n",
        "    generated += sentence\n",
        "    \n",
        "    print('----- Generating with seed: \"' + sentence + '\"')\n",
        "    sys.stdout.write(generated)\n",
        "    \n",
        "    for i in range(400):\n",
        "        x_pred = np.zeros((1, maxlen, len(chars)))\n",
        "        for t, char in enumerate(sentence):\n",
        "            x_pred[0, t, char_int[char]] = 1\n",
        "            \n",
        "        preds = model.predict(x_pred, verbose=0)[0]\n",
        "        next_index = sample(preds)\n",
        "        next_char = int_char[next_index]\n",
        "        \n",
        "        sentence = sentence[1:] + next_char\n",
        "        \n",
        "        sys.stdout.write(next_char)\n",
        "        sys.stdout.flush()\n",
        "    print()\n",
        "\n",
        "\n",
        "print_callback = LambdaCallback(on_epoch_end=on_epoch_end)"
      ],
      "execution_count": 0,
      "outputs": []
    },
    {
      "cell_type": "code",
      "metadata": {
        "id": "c3n-RNNVhoOj",
        "colab_type": "code",
        "outputId": "9dc20090-74b6-4f5e-efb5-4ab0983b5434",
        "colab": {
          "base_uri": "https://localhost:8080/",
          "height": 1000
        }
      },
      "source": [
        "# fit the model\n",
        "\n",
        "model.fit(x, y,\n",
        "          batch_size=512,\n",
        "          epochs=10,\n",
        "          callbacks=[print_callback])"
      ],
      "execution_count": 0,
      "outputs": [
        {
          "output_type": "stream",
          "text": [
            "Epoch 1/10\n",
            "1742/1742 [==============================] - ETA: 0s - loss: 2.3847\n",
            "----- Generating text after Epoch: 0\n",
            "----- Generating with seed: \" wind down a career of pioneering feminist art are bolder than titling an exhibi\"\n",
            " wind down a career of pioneering feminist art are bolder than titling an exhibitnt of in lints, hansion tugh is ats the sopene that ser game Onpor hat roid cumeivipesy Comms No ilst the tom the ghal h ally risfee is is. The Une lals bade paidness in a stonmens Buth The Selsess as’lpl goad fir houg ta dwented — wima shes om ndisublly,”\n",
            "\n",
            "AD Chipt Balla oct but sepe a epore) st moBes ne a camptor Ehil, Turnswoppediriju. Whe Oo ste rest bler Japripe,s pos colan nas me tho ing to\n",
            "1742/1742 [==============================] - 40s 23ms/step - loss: 2.3847\n",
            "Epoch 2/10\n",
            "1741/1742 [============================>.] - ETA: 0s - loss: 2.3115\n",
            "----- Generating text after Epoch: 1\n",
            "----- Generating with seed: \"few weeks in America, they walked everywhere. Passing motorists would slow down \"\n",
            "few weeks in America, they walked everywhere. Passing motorists would slow down US$/Aupur ask Have facal alded 20 enfer in swates agont realated Tour3, and Curlicis as a of a leaei\" spoysion oo lalls of o sumeds a alleveraded beyinl vill.\n",
            "The mablass overwsted hed hes suse und that as surgein, of atige ere the mave bemeor ment comvert and a busaliat, a clougl mald wWs sants comedorso rockacrem on str old shat aipeom and anl is not plisalion in apjorinu eastsing masent for nea\n",
            "1742/1742 [==============================] - 40s 23ms/step - loss: 2.3114\n",
            "Epoch 3/10\n",
            "1741/1742 [============================>.] - ETA: 0s - loss: 2.2534\n",
            "----- Generating text after Epoch: 2\n",
            "----- Generating with seed: \"hake things up.”\n",
            "\n",
            "Anyone who has covered a candidate who isn’t quite pulling thi\"\n",
            "hake things up.”\n",
            "\n",
            "Anyone who has covered a candidate who isn’t quite pulling thingrougg. Sught has disucraticeale shaid: Iu what cauphivia come and shke soth trooring of wholddect of done a darspy faredeced posted to seast thes survisis norus 1901.\n",
            "\n",
            "It Tr.t Temmbenif han thine ia mouencation. Supporment proilttflovect best crofven shinglersull bith etyover oy oued hove phroed — pwomaty hastmist aw then stare that ind came to Trump Drant\n",
            "\n",
            "As: Hhale parded theopadef Secooning o\n",
            "1742/1742 [==============================] - 39s 23ms/step - loss: 2.2534\n",
            "Epoch 4/10\n",
            "1742/1742 [==============================] - ETA: 0s - loss: 2.2112\n",
            "----- Generating text after Epoch: 3\n",
            "----- Generating with seed: \"ideo they apparently find entertaining — but it is by far and away the worst,” C\"\n",
            "ideo they apparently find entertaining — but it is by far and away the worst,” Coumah, andenjeys. Ta sike 9hdohas it’s sovermeattent ho Insticlash proptanghteit thr seds woull cowncctony and that whit sounman war caredd a fill we lird trewswith a’sed woll htw, theataptived he acturter the rai, Wos mites promund. The work hamentwigays of tils gakceentiec master fondelie vilu to the kenies to Stixe ONe]\n",
            "\n",
            "AD\n",
            "\n",
            "Natats firdd, and seryiarakes, pegnety monted eeder bore paked and dec\n",
            "1742/1742 [==============================] - 39s 23ms/step - loss: 2.2112\n",
            "Epoch 5/10\n",
            "1741/1742 [============================>.] - ETA: 0s - loss: 2.1749\n",
            "----- Generating text after Epoch: 4\n",
            "----- Generating with seed: \"om,” he is a leader to be obeyed.\n",
            "\n",
            "AD\n",
            "\n",
            "In fact, the president offered that self-\"\n",
            "om,” he is a leader to be obeyed.\n",
            "\n",
            "AD\n",
            "\n",
            "In fact, the president offered that self-notey from the 2014.  amons readednof Tarmy Pobsical, thit are and time fale. The Spsringtic — a turs trould — quintry in Uneotinh Fir, sheming to at or arain aulabor, Loo in ererrating bonatcale farma, and to gotipriply malfored in mppan; inc iffor the ppray ttop.\n",
            "\n",
            "AC the liwl cratist that but vile to a perced, pill Unaiatlal (“Jancamsnork\" (Kreian Cereayrit:, Ame treeddentaiBuict from and miduin\n",
            "1742/1742 [==============================] - 39s 23ms/step - loss: 2.1749\n",
            "Epoch 6/10\n",
            "1742/1742 [==============================] - ETA: 0s - loss: 2.1430\n",
            "----- Generating text after Epoch: 5\n",
            "----- Generating with seed: \"f the economy, but he runs into trouble when he repeatedly makes a play for the \"\n",
            "f the economy, but he runs into trouble when he repeatedly makes a play for the Usirlaf whichs ailifers.\n",
            ",Wfy of encaped a to goars a proviced throp’s goan to may theow reve. In Shate Trump Hovong wese the missed Nott New in the bit a dreced was in rasces afterschick for the lust to MStato Post polil, you whoked ent wated hus ground a lanich for My. Gniniatior leosing otroo coke ofowrown Scut — whith’s repuld a ceople paial. It wall quirt, that shir line soatiRg that also imp\n",
            "1742/1742 [==============================] - 39s 23ms/step - loss: 2.1430\n",
            "Epoch 7/10\n",
            "1741/1742 [============================>.] - ETA: 0s - loss: 2.1159\n",
            "----- Generating text after Epoch: 6\n",
            "----- Generating with seed: \"s first baseman D.J. LeMahieu rounded third and headed home, waved in by third b\"\n",
            "s first baseman D.J. LeMahieu rounded third and headed home, waved in by third barmed for treasevalt on the @urkis and in’t heddristarse has 14- meer cripl of Buerkel-onchillers proseding — on NFL trote congride.\n",
            "\n",
            "“-- Gorter ZelrFir Say foon ’r mogel comportings wloked paincarly eftic on officials ald show, ever, to nece that it who gow welo held in dou of mechad lupber whot-atmevident out reconoters: You hantal of you gak wo went lending “Cornosh\n",
            "\n",
            "By the a novedbactubatiant \n",
            "1742/1742 [==============================] - 40s 23ms/step - loss: 2.1159\n",
            "Epoch 8/10\n",
            "1740/1742 [============================>.] - ETA: 0s - loss: 2.0946\n",
            "----- Generating text after Epoch: 7\n",
            "----- Generating with seed: \" the services.\n",
            "\n",
            "10. Third-Party Content and Links to Third-Party Websites\n",
            "\n",
            "The S\"\n",
            " the services.\n",
            "\n",
            "10. Third-Party Content and Links to Third-Party Websites\n",
            "\n",
            "The Sermon instemoutents rolder up of netyld of waspey ate for morder dups like los\n",
            "\n",
            "A. It and was ressunted und was a which ay mejic suppleent Takay the enderies of the turs or are tuend oo wor huse make has referey oresnea mesest and ports reade with a mull sfefived ses. “We liding popinting that he wand clast been calle of Cott alloating onturgerting dimeng by house but Rusaws in 2001.\n",
            "\n",
            "AD\n",
            "\n",
            "Donettac\n",
            "1742/1742 [==============================] - 40s 23ms/step - loss: 2.0946\n",
            "Epoch 9/10\n",
            "1739/1742 [============================>.] - ETA: 0s - loss: 2.0758\n",
            "----- Generating text after Epoch: 8\n",
            "----- Generating with seed: \"have fought U.S. and Canadian attempts to patrol, militarize and enforce the bor\"\n",
            "have fought U.S. and Canadian attempts to patrol, militarize and enforce the borgerits lights on would amoliced Tomi’ oftenting trump his pown that wild call rice on usign viduo. Suttral Spunighicrant. Whene pating a mail that it wolld sope thanishout phosivesternian distroyinized-intisers. Ar not ispanding that have mare the being whice to bed adsocuse on wolt. “Itheptuble thendsher Skrra-Sanday (Ox New Wasbin Foor Pobal Ralin: (SBewattto I@Olp).)\n",
            "\n",
            "-0 a scwosion compalibles \n",
            "1742/1742 [==============================] - 40s 23ms/step - loss: 2.0757\n",
            "Epoch 10/10\n",
            "1742/1742 [==============================] - ETA: 0s - loss: 2.0560\n",
            "----- Generating text after Epoch: 9\n",
            "----- Generating with seed: \"onment is “complicated and severe” and that instability and uncertainty are incr\"\n",
            "onment is “complicated and severe” and that instability and uncertainty are incrrivic.\n",
            "\n",
            "For the recensing. “It hain proint carrect on luayes allian that with the post;”\n",
            "\n",
            "And IrayBor an the sabetives that is woll conterved by the conties transes on the Compays. In NewsYor Suftll & taptences a dighed are acchaned-eaple of hording, if the stap sgom der.” Ruscams Trucmor, angent thenmonk to that amposing receteee, there of accept/bo fe Ammigmation Bedung ievosion, as andreated to\n",
            "1742/1742 [==============================] - 40s 23ms/step - loss: 2.0560\n"
          ],
          "name": "stdout"
        },
        {
          "output_type": "execute_result",
          "data": {
            "text/plain": [
              "<tensorflow.python.keras.callbacks.History at 0x7f3014622c18>"
            ]
          },
          "metadata": {
            "tags": []
          },
          "execution_count": 39
        }
      ]
    },
    {
      "cell_type": "markdown",
      "metadata": {
        "id": "iMQHQfhNhoOm",
        "colab_type": "text"
      },
      "source": [
        "## Challenge\n",
        "\n",
        "You will be expected to use a Keras LSTM to generate text on today's assignment. "
      ]
    },
    {
      "cell_type": "markdown",
      "metadata": {
        "id": "W7uPSF7NhoOn",
        "colab_type": "text"
      },
      "source": [
        "# Review\n",
        "\n",
        "- <a href=\"#p1\">Part 1: </a>Describe Neural Networks used for modeling sequences\n",
        "    * Sequence Problems:\n",
        "        - Time Series (like Stock Prices, Weather, etc.)\n",
        "        - Text Classification\n",
        "        - Text Generation\n",
        "        - And many more! :D\n",
        "    * LSTMs are generally preferred over RNNs for most problems\n",
        "    * LSTMs are typically a single hidden layer of LSTM type; although, other architectures are possible.\n",
        "    * Keras has LSTMs/RNN layer types implemented nicely\n",
        "- <a href=\"#p2\">Part 2: </a>Apply a LSTM to a text generation problem using Keras\n",
        "    * Shape of input data is very important\n",
        "    * Can take a while to train\n",
        "    * You can use it to write movie scripts. :P "
      ]
    }
  ]
}